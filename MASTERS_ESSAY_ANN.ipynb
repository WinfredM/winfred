{
  "nbformat": 4,
  "nbformat_minor": 0,
  "metadata": {
    "colab": {
      "name": "MASTERS_ESSAY_ANN.ipynb",
      "provenance": [],
      "collapsed_sections": []
    },
    "kernelspec": {
      "name": "python3",
      "display_name": "Python 3"
    }
  },
  "cells": [
    {
      "cell_type": "markdown",
      "metadata": {
        "id": "OpPhNErAUooE",
        "colab_type": "text"
      },
      "source": [
        "# **Winfred Mutinda**\n",
        "\n",
        "## **Bitcoin price prediction with Artificial Neural Network (ANN)**\n",
        "\n",
        "## **African Institute of Mathematical Sciences (AIMS), South Africa**\n"
      ]
    },
    {
      "cell_type": "markdown",
      "metadata": {
        "id": "gNpVqSFwDi0W",
        "colab_type": "text"
      },
      "source": [
        "This code uses ANN in predicting bitcoin price using historical data from yahoo finance."
      ]
    },
    {
      "cell_type": "markdown",
      "metadata": {
        "id": "fv1HMlgoK98P",
        "colab_type": "text"
      },
      "source": [
        "### **Loading the needed Python libraries**"
      ]
    },
    {
      "cell_type": "code",
      "metadata": {
        "id": "z214girhKqDt",
        "colab_type": "code",
        "colab": {
          "base_uri": "https://localhost:8080/",
          "height": 52
        },
        "outputId": "f69b252b-6475-4b2e-cd7e-5bf4551be5f2"
      },
      "source": [
        "import numpy as np\n",
        "import pandas as pd\n",
        "from keras.models import Sequential ## layers from left to right\n",
        "from keras.layers import Dense ## For fully connected layers\n",
        "from keras import metrics  ## To get the MSE\n",
        "from keras.wrappers.scikit_learn import KerasRegressor\n",
        "from sklearn.model_selection import train_test_split\n",
        "from sklearn.preprocessing import MinMaxScaler\n",
        "import matplotlib.pyplot as plt\n",
        "from numpy.random import seed  ## for reproducibility\n",
        "seed(12)\n",
        "\n",
        "%tensorflow_version 1.x\n",
        "import tensorflow as tf\n",
        "print(tf.__version__)"
      ],
      "execution_count": null,
      "outputs": [
        {
          "output_type": "stream",
          "text": [
            "TensorFlow is already loaded. Please restart the runtime to change versions.\n",
            "2.3.0\n"
          ],
          "name": "stdout"
        }
      ]
    },
    {
      "cell_type": "markdown",
      "metadata": {
        "id": "rIdLNceNEUkS",
        "colab_type": "text"
      },
      "source": [
        "We install yfinance to enable us access data from yahoo finance website"
      ]
    },
    {
      "cell_type": "code",
      "metadata": {
        "id": "Fh2MLfT-RMIa",
        "colab_type": "code",
        "colab": {
          "base_uri": "https://localhost:8080/",
          "height": 364
        },
        "outputId": "fe79945b-c9ac-43da-d0aa-e28e32dafb04"
      },
      "source": [
        "!pip install yfinance"
      ],
      "execution_count": null,
      "outputs": [
        {
          "output_type": "stream",
          "text": [
            "Collecting yfinance\n",
            "  Downloading https://files.pythonhosted.org/packages/c2/31/8b374a12b90def92a4e27d0fc595fc43635f395984e36a075244d98bd265/yfinance-0.1.54.tar.gz\n",
            "Requirement already satisfied: pandas>=0.24 in /usr/local/lib/python3.6/dist-packages (from yfinance) (1.0.5)\n",
            "Requirement already satisfied: numpy>=1.15 in /usr/local/lib/python3.6/dist-packages (from yfinance) (1.18.5)\n",
            "Requirement already satisfied: requests>=2.20 in /usr/local/lib/python3.6/dist-packages (from yfinance) (2.23.0)\n",
            "Requirement already satisfied: multitasking>=0.0.7 in /usr/local/lib/python3.6/dist-packages (from yfinance) (0.0.9)\n",
            "Requirement already satisfied: python-dateutil>=2.6.1 in /usr/local/lib/python3.6/dist-packages (from pandas>=0.24->yfinance) (2.8.1)\n",
            "Requirement already satisfied: pytz>=2017.2 in /usr/local/lib/python3.6/dist-packages (from pandas>=0.24->yfinance) (2018.9)\n",
            "Requirement already satisfied: chardet<4,>=3.0.2 in /usr/local/lib/python3.6/dist-packages (from requests>=2.20->yfinance) (3.0.4)\n",
            "Requirement already satisfied: idna<3,>=2.5 in /usr/local/lib/python3.6/dist-packages (from requests>=2.20->yfinance) (2.10)\n",
            "Requirement already satisfied: certifi>=2017.4.17 in /usr/local/lib/python3.6/dist-packages (from requests>=2.20->yfinance) (2020.6.20)\n",
            "Requirement already satisfied: urllib3!=1.25.0,!=1.25.1,<1.26,>=1.21.1 in /usr/local/lib/python3.6/dist-packages (from requests>=2.20->yfinance) (1.24.3)\n",
            "Requirement already satisfied: six>=1.5 in /usr/local/lib/python3.6/dist-packages (from python-dateutil>=2.6.1->pandas>=0.24->yfinance) (1.15.0)\n",
            "Building wheels for collected packages: yfinance\n",
            "  Building wheel for yfinance (setup.py) ... \u001b[?25l\u001b[?25hdone\n",
            "  Created wheel for yfinance: filename=yfinance-0.1.54-py2.py3-none-any.whl size=22409 sha256=25cf15f69dc2d9e29211ec28fcc77831e987e8d78d4baee269b72dec742316c8\n",
            "  Stored in directory: /root/.cache/pip/wheels/f9/e3/5b/ec24dd2984b12d61e0abf26289746c2436a0e7844f26f2515c\n",
            "Successfully built yfinance\n",
            "Installing collected packages: yfinance\n",
            "Successfully installed yfinance-0.1.54\n"
          ],
          "name": "stdout"
        }
      ]
    },
    {
      "cell_type": "markdown",
      "metadata": {
        "id": "H1VWGvj2zI8B",
        "colab_type": "text"
      },
      "source": [
        "### **Loading the dataset**"
      ]
    },
    {
      "cell_type": "code",
      "metadata": {
        "id": "wae_HjknzI8E",
        "colab_type": "code",
        "colab": {
          "base_uri": "https://localhost:8080/",
          "height": 34
        },
        "outputId": "b3325c46-08e6-4e9d-e32d-e219e8510b95"
      },
      "source": [
        "import yfinance as yf\n",
        "data= yf.download (\"BTC-USD\",start=\"2014-09-17\",end=\"2020-08-05\")"
      ],
      "execution_count": null,
      "outputs": [
        {
          "output_type": "stream",
          "text": [
            "\r[*********************100%***********************]  1 of 1 completed\n"
          ],
          "name": "stdout"
        }
      ]
    },
    {
      "cell_type": "markdown",
      "metadata": {
        "id": "IZRVaVPIxhwJ",
        "colab_type": "text"
      },
      "source": [
        "### Viewing the first 10 records"
      ]
    },
    {
      "cell_type": "code",
      "metadata": {
        "id": "QvX90d3mKEL0",
        "colab_type": "code",
        "colab": {
          "base_uri": "https://localhost:8080/",
          "height": 394
        },
        "outputId": "ec83af87-309c-48c2-ee51-cc7620576218"
      },
      "source": [
        "data.head(10)"
      ],
      "execution_count": null,
      "outputs": [
        {
          "output_type": "execute_result",
          "data": {
            "text/html": [
              "<div>\n",
              "<style scoped>\n",
              "    .dataframe tbody tr th:only-of-type {\n",
              "        vertical-align: middle;\n",
              "    }\n",
              "\n",
              "    .dataframe tbody tr th {\n",
              "        vertical-align: top;\n",
              "    }\n",
              "\n",
              "    .dataframe thead th {\n",
              "        text-align: right;\n",
              "    }\n",
              "</style>\n",
              "<table border=\"1\" class=\"dataframe\">\n",
              "  <thead>\n",
              "    <tr style=\"text-align: right;\">\n",
              "      <th></th>\n",
              "      <th>Open</th>\n",
              "      <th>High</th>\n",
              "      <th>Low</th>\n",
              "      <th>Close</th>\n",
              "      <th>Adj Close</th>\n",
              "      <th>Volume</th>\n",
              "    </tr>\n",
              "    <tr>\n",
              "      <th>Date</th>\n",
              "      <th></th>\n",
              "      <th></th>\n",
              "      <th></th>\n",
              "      <th></th>\n",
              "      <th></th>\n",
              "      <th></th>\n",
              "    </tr>\n",
              "  </thead>\n",
              "  <tbody>\n",
              "    <tr>\n",
              "      <th>2014-09-17</th>\n",
              "      <td>465.864014</td>\n",
              "      <td>468.174011</td>\n",
              "      <td>452.421997</td>\n",
              "      <td>457.334015</td>\n",
              "      <td>457.334015</td>\n",
              "      <td>21056800</td>\n",
              "    </tr>\n",
              "    <tr>\n",
              "      <th>2014-09-18</th>\n",
              "      <td>456.859985</td>\n",
              "      <td>456.859985</td>\n",
              "      <td>413.104004</td>\n",
              "      <td>424.440002</td>\n",
              "      <td>424.440002</td>\n",
              "      <td>34483200</td>\n",
              "    </tr>\n",
              "    <tr>\n",
              "      <th>2014-09-19</th>\n",
              "      <td>424.102997</td>\n",
              "      <td>427.834991</td>\n",
              "      <td>384.532013</td>\n",
              "      <td>394.795990</td>\n",
              "      <td>394.795990</td>\n",
              "      <td>37919700</td>\n",
              "    </tr>\n",
              "    <tr>\n",
              "      <th>2014-09-20</th>\n",
              "      <td>394.673004</td>\n",
              "      <td>423.295990</td>\n",
              "      <td>389.882996</td>\n",
              "      <td>408.903992</td>\n",
              "      <td>408.903992</td>\n",
              "      <td>36863600</td>\n",
              "    </tr>\n",
              "    <tr>\n",
              "      <th>2014-09-21</th>\n",
              "      <td>408.084991</td>\n",
              "      <td>412.425995</td>\n",
              "      <td>393.181000</td>\n",
              "      <td>398.821014</td>\n",
              "      <td>398.821014</td>\n",
              "      <td>26580100</td>\n",
              "    </tr>\n",
              "    <tr>\n",
              "      <th>2014-09-22</th>\n",
              "      <td>399.100006</td>\n",
              "      <td>406.915985</td>\n",
              "      <td>397.130005</td>\n",
              "      <td>402.152008</td>\n",
              "      <td>402.152008</td>\n",
              "      <td>24127600</td>\n",
              "    </tr>\n",
              "    <tr>\n",
              "      <th>2014-09-23</th>\n",
              "      <td>402.092010</td>\n",
              "      <td>441.557007</td>\n",
              "      <td>396.196991</td>\n",
              "      <td>435.790985</td>\n",
              "      <td>435.790985</td>\n",
              "      <td>45099500</td>\n",
              "    </tr>\n",
              "    <tr>\n",
              "      <th>2014-09-24</th>\n",
              "      <td>435.751007</td>\n",
              "      <td>436.112000</td>\n",
              "      <td>421.131989</td>\n",
              "      <td>423.204987</td>\n",
              "      <td>423.204987</td>\n",
              "      <td>30627700</td>\n",
              "    </tr>\n",
              "    <tr>\n",
              "      <th>2014-09-25</th>\n",
              "      <td>423.156006</td>\n",
              "      <td>423.519989</td>\n",
              "      <td>409.467987</td>\n",
              "      <td>411.574005</td>\n",
              "      <td>411.574005</td>\n",
              "      <td>26814400</td>\n",
              "    </tr>\n",
              "    <tr>\n",
              "      <th>2014-09-26</th>\n",
              "      <td>411.428986</td>\n",
              "      <td>414.937988</td>\n",
              "      <td>400.009003</td>\n",
              "      <td>404.424988</td>\n",
              "      <td>404.424988</td>\n",
              "      <td>21460800</td>\n",
              "    </tr>\n",
              "  </tbody>\n",
              "</table>\n",
              "</div>"
            ],
            "text/plain": [
              "                  Open        High  ...   Adj Close    Volume\n",
              "Date                                ...                      \n",
              "2014-09-17  465.864014  468.174011  ...  457.334015  21056800\n",
              "2014-09-18  456.859985  456.859985  ...  424.440002  34483200\n",
              "2014-09-19  424.102997  427.834991  ...  394.795990  37919700\n",
              "2014-09-20  394.673004  423.295990  ...  408.903992  36863600\n",
              "2014-09-21  408.084991  412.425995  ...  398.821014  26580100\n",
              "2014-09-22  399.100006  406.915985  ...  402.152008  24127600\n",
              "2014-09-23  402.092010  441.557007  ...  435.790985  45099500\n",
              "2014-09-24  435.751007  436.112000  ...  423.204987  30627700\n",
              "2014-09-25  423.156006  423.519989  ...  411.574005  26814400\n",
              "2014-09-26  411.428986  414.937988  ...  404.424988  21460800\n",
              "\n",
              "[10 rows x 6 columns]"
            ]
          },
          "metadata": {
            "tags": []
          },
          "execution_count": 5
        }
      ]
    },
    {
      "cell_type": "markdown",
      "metadata": {
        "id": "s9CsbRwf3507",
        "colab_type": "text"
      },
      "source": [
        "### Checking the shape of the data"
      ]
    },
    {
      "cell_type": "code",
      "metadata": {
        "id": "VhzsQ9iR4AIZ",
        "colab_type": "code",
        "colab": {
          "base_uri": "https://localhost:8080/",
          "height": 34
        },
        "outputId": "c80b6da0-37c6-47f8-c31a-636e3fdb8fbb"
      },
      "source": [
        "data.shape"
      ],
      "execution_count": null,
      "outputs": [
        {
          "output_type": "execute_result",
          "data": {
            "text/plain": [
              "(2149, 6)"
            ]
          },
          "metadata": {
            "tags": []
          },
          "execution_count": 6
        }
      ]
    },
    {
      "cell_type": "markdown",
      "metadata": {
        "id": "yvVI4IfFE5Sj",
        "colab_type": "text"
      },
      "source": [
        "We have 2149 observations/data points and 6 columns/features"
      ]
    },
    {
      "cell_type": "markdown",
      "metadata": {
        "id": "Dks9bF844aaT",
        "colab_type": "text"
      },
      "source": [
        "## Create a dataframe with only the close column"
      ]
    },
    {
      "cell_type": "markdown",
      "metadata": {
        "id": "Z8IApYdNFRIJ",
        "colab_type": "text"
      },
      "source": [
        "Here, we select the Close column which we will use in our prediction"
      ]
    },
    {
      "cell_type": "code",
      "metadata": {
        "id": "h4Jj0tVR4ZIH",
        "colab_type": "code",
        "colab": {
          "base_uri": "https://localhost:8080/",
          "height": 455
        },
        "outputId": "15997e4f-d012-4a53-e89e-d5a452ed3dea"
      },
      "source": [
        "dataset= data.filter(['Close'])\n",
        "dataset"
      ],
      "execution_count": null,
      "outputs": [
        {
          "output_type": "execute_result",
          "data": {
            "text/html": [
              "<div>\n",
              "<style scoped>\n",
              "    .dataframe tbody tr th:only-of-type {\n",
              "        vertical-align: middle;\n",
              "    }\n",
              "\n",
              "    .dataframe tbody tr th {\n",
              "        vertical-align: top;\n",
              "    }\n",
              "\n",
              "    .dataframe thead th {\n",
              "        text-align: right;\n",
              "    }\n",
              "</style>\n",
              "<table border=\"1\" class=\"dataframe\">\n",
              "  <thead>\n",
              "    <tr style=\"text-align: right;\">\n",
              "      <th></th>\n",
              "      <th>Close</th>\n",
              "    </tr>\n",
              "    <tr>\n",
              "      <th>Date</th>\n",
              "      <th></th>\n",
              "    </tr>\n",
              "  </thead>\n",
              "  <tbody>\n",
              "    <tr>\n",
              "      <th>2014-09-17</th>\n",
              "      <td>457.334015</td>\n",
              "    </tr>\n",
              "    <tr>\n",
              "      <th>2014-09-18</th>\n",
              "      <td>424.440002</td>\n",
              "    </tr>\n",
              "    <tr>\n",
              "      <th>2014-09-19</th>\n",
              "      <td>394.795990</td>\n",
              "    </tr>\n",
              "    <tr>\n",
              "      <th>2014-09-20</th>\n",
              "      <td>408.903992</td>\n",
              "    </tr>\n",
              "    <tr>\n",
              "      <th>2014-09-21</th>\n",
              "      <td>398.821014</td>\n",
              "    </tr>\n",
              "    <tr>\n",
              "      <th>...</th>\n",
              "      <td>...</td>\n",
              "    </tr>\n",
              "    <tr>\n",
              "      <th>2020-07-31</th>\n",
              "      <td>11323.466797</td>\n",
              "    </tr>\n",
              "    <tr>\n",
              "      <th>2020-08-01</th>\n",
              "      <td>11759.592773</td>\n",
              "    </tr>\n",
              "    <tr>\n",
              "      <th>2020-08-02</th>\n",
              "      <td>11053.614258</td>\n",
              "    </tr>\n",
              "    <tr>\n",
              "      <th>2020-08-03</th>\n",
              "      <td>11246.348633</td>\n",
              "    </tr>\n",
              "    <tr>\n",
              "      <th>2020-08-05</th>\n",
              "      <td>11747.022461</td>\n",
              "    </tr>\n",
              "  </tbody>\n",
              "</table>\n",
              "<p>2149 rows × 1 columns</p>\n",
              "</div>"
            ],
            "text/plain": [
              "                   Close\n",
              "Date                    \n",
              "2014-09-17    457.334015\n",
              "2014-09-18    424.440002\n",
              "2014-09-19    394.795990\n",
              "2014-09-20    408.903992\n",
              "2014-09-21    398.821014\n",
              "...                  ...\n",
              "2020-07-31  11323.466797\n",
              "2020-08-01  11759.592773\n",
              "2020-08-02  11053.614258\n",
              "2020-08-03  11246.348633\n",
              "2020-08-05  11747.022461\n",
              "\n",
              "[2149 rows x 1 columns]"
            ]
          },
          "metadata": {
            "tags": []
          },
          "execution_count": 7
        }
      ]
    },
    {
      "cell_type": "markdown",
      "metadata": {
        "id": "42F9r6to6XPd",
        "colab_type": "text"
      },
      "source": [
        "## Convert the dataframe into a numpy array"
      ]
    },
    {
      "cell_type": "code",
      "metadata": {
        "id": "Su3XY9gI6fa4",
        "colab_type": "code",
        "colab": {
          "base_uri": "https://localhost:8080/",
          "height": 139
        },
        "outputId": "feba4dd8-88f5-4b58-87b5-b38cacb361ab"
      },
      "source": [
        "Data=dataset.values\n",
        "Data"
      ],
      "execution_count": null,
      "outputs": [
        {
          "output_type": "execute_result",
          "data": {
            "text/plain": [
              "array([[  457.33401489],\n",
              "       [  424.44000244],\n",
              "       [  394.79598999],\n",
              "       ...,\n",
              "       [11053.61425781],\n",
              "       [11246.34863281],\n",
              "       [11747.02246094]])"
            ]
          },
          "metadata": {
            "tags": []
          },
          "execution_count": 8
        }
      ]
    },
    {
      "cell_type": "markdown",
      "metadata": {
        "id": "bgOe40oFGZOr",
        "colab_type": "text"
      },
      "source": [
        "## **Preprocessing our dataset**"
      ]
    },
    {
      "cell_type": "markdown",
      "metadata": {
        "id": "sGD_PoQ4FhA3",
        "colab_type": "text"
      },
      "source": [
        "## **Normalization**"
      ]
    },
    {
      "cell_type": "markdown",
      "metadata": {
        "id": "uFyEtMmsyXSX",
        "colab_type": "text"
      },
      "source": [
        "We will scale our data to be between a range of 0 and 1."
      ]
    },
    {
      "cell_type": "code",
      "metadata": {
        "id": "rMAFbTHIKEvb",
        "colab_type": "code",
        "colab": {
          "base_uri": "https://localhost:8080/",
          "height": 139
        },
        "outputId": "d1ff3fc7-826e-49a1-ca69-815d2b760bdf"
      },
      "source": [
        "from sklearn.preprocessing import MinMaxScaler\n",
        "scaler = MinMaxScaler(feature_range=(0, 1))\n",
        "scaled_data = scaler.fit_transform(Data)\n",
        "\n",
        "## Viewing the scaled data\n",
        "scaled_data\n"
      ],
      "execution_count": null,
      "outputs": [
        {
          "output_type": "execute_result",
          "data": {
            "text/plain": [
              "array([[0.01445348],\n",
              "       [0.01275083],\n",
              "       [0.0112164 ],\n",
              "       ...,\n",
              "       [0.56293513],\n",
              "       [0.5729114 ],\n",
              "       [0.59882713]])"
            ]
          },
          "metadata": {
            "tags": []
          },
          "execution_count": 9
        }
      ]
    },
    {
      "cell_type": "markdown",
      "metadata": {
        "id": "KzTeyWIFymIV",
        "colab_type": "text"
      },
      "source": [
        " ## Viewing the scaled data"
      ]
    },
    {
      "cell_type": "code",
      "metadata": {
        "id": "ekwRS-uxKEzs",
        "colab_type": "code",
        "colab": {
          "base_uri": "https://localhost:8080/",
          "height": 139
        },
        "outputId": "79d1a3d4-3dea-4f37-9014-fc2307816c0a"
      },
      "source": [
        "scaled_data"
      ],
      "execution_count": null,
      "outputs": [
        {
          "output_type": "execute_result",
          "data": {
            "text/plain": [
              "array([[0.01445348],\n",
              "       [0.01275083],\n",
              "       [0.0112164 ],\n",
              "       ...,\n",
              "       [0.56293513],\n",
              "       [0.5729114 ],\n",
              "       [0.59882713]])"
            ]
          },
          "metadata": {
            "tags": []
          },
          "execution_count": 10
        }
      ]
    },
    {
      "cell_type": "markdown",
      "metadata": {
        "id": "dYmc2PlTzzoh",
        "colab_type": "text"
      },
      "source": [
        "## Checking the shape of the scaled data"
      ]
    },
    {
      "cell_type": "code",
      "metadata": {
        "id": "hTIIM_KRz32N",
        "colab_type": "code",
        "colab": {
          "base_uri": "https://localhost:8080/",
          "height": 34
        },
        "outputId": "d6d71073-b3bb-44fb-fbc1-a53d4b191e27"
      },
      "source": [
        "scaled_data.shape"
      ],
      "execution_count": null,
      "outputs": [
        {
          "output_type": "execute_result",
          "data": {
            "text/plain": [
              "(2149, 1)"
            ]
          },
          "metadata": {
            "tags": []
          },
          "execution_count": 11
        }
      ]
    },
    {
      "cell_type": "markdown",
      "metadata": {
        "id": "ZMrlTn5B6zFU",
        "colab_type": "text"
      },
      "source": [
        "## Getting the number of rows to train the model on\n"
      ]
    },
    {
      "cell_type": "code",
      "metadata": {
        "id": "GvP8VbhL4ZEG",
        "colab_type": "code",
        "colab": {
          "base_uri": "https://localhost:8080/",
          "height": 34
        },
        "outputId": "a1ca7bbf-964f-4f1a-d190-daeab5ab0fad"
      },
      "source": [
        "import math\n",
        "training_data_len = math.ceil(len(Data)*.7)\n",
        "training_data_len\n"
      ],
      "execution_count": null,
      "outputs": [
        {
          "output_type": "execute_result",
          "data": {
            "text/plain": [
              "1505"
            ]
          },
          "metadata": {
            "tags": []
          },
          "execution_count": 12
        }
      ]
    },
    {
      "cell_type": "markdown",
      "metadata": {
        "id": "d4JEbynNzY8L",
        "colab_type": "text"
      },
      "source": [
        "### **Creating the training dataset with 10 days lookback**\n",
        "\n",
        "\n"
      ]
    },
    {
      "cell_type": "code",
      "metadata": {
        "id": "5MsxgydV7bRY",
        "colab_type": "code",
        "colab": {
          "base_uri": "https://localhost:8080/",
          "height": 86
        },
        "outputId": "055c70f5-f6f2-472b-b3d2-d02a92712d0a"
      },
      "source": [
        "## Create the scaled training dataset\n",
        "Train_data = scaled_data[0:training_data_len, :]\n",
        "\n",
        "## Split the data into X_train and Y_train datasets\n",
        "X_train = []\n",
        "Y_train = []\n",
        "for i in range (10, len(Train_data)):\n",
        "  X_train.append(Train_data[i-10:i, 0])\n",
        "  Y_train.append(Train_data[i,0])\n",
        "  if i<=10:\n",
        "    print(X_train)\n",
        "    print(Y_train)\n",
        "    print()\n"
      ],
      "execution_count": null,
      "outputs": [
        {
          "output_type": "stream",
          "text": [
            "[array([0.01445348, 0.01275083, 0.0112164 , 0.01194666, 0.01142474,\n",
            "       0.01159716, 0.01333837, 0.0126869 , 0.01208486, 0.01171481])]\n",
            "[0.011460923638898541]\n",
            "\n"
          ],
          "name": "stdout"
        }
      ]
    },
    {
      "cell_type": "markdown",
      "metadata": {
        "id": "n0ITzL8s8une",
        "colab_type": "text"
      },
      "source": [
        "## Convert the X_train and Y_train to numpy arrays"
      ]
    },
    {
      "cell_type": "code",
      "metadata": {
        "id": "o2KoyhO283GO",
        "colab_type": "code",
        "colab": {}
      },
      "source": [
        "X_train, Y_train = np.array(X_train), np.array(Y_train)"
      ],
      "execution_count": null,
      "outputs": []
    },
    {
      "cell_type": "code",
      "metadata": {
        "id": "evU58ssX9Fs3",
        "colab_type": "code",
        "colab": {
          "base_uri": "https://localhost:8080/",
          "height": 34
        },
        "outputId": "da672031-cb9a-4201-aa2f-8956596e47b0"
      },
      "source": [
        "## Checking the shape of the data\n",
        "X_train.shape\n"
      ],
      "execution_count": null,
      "outputs": [
        {
          "output_type": "execute_result",
          "data": {
            "text/plain": [
              "(1495, 10)"
            ]
          },
          "metadata": {
            "tags": []
          },
          "execution_count": 15
        }
      ]
    },
    {
      "cell_type": "code",
      "metadata": {
        "id": "xGvEcBaI9b1S",
        "colab_type": "code",
        "colab": {
          "base_uri": "https://localhost:8080/",
          "height": 34
        },
        "outputId": "90c3f59b-c4f7-4204-f0e5-3b81df8a81df"
      },
      "source": [
        "Y_train.shape"
      ],
      "execution_count": null,
      "outputs": [
        {
          "output_type": "execute_result",
          "data": {
            "text/plain": [
              "(1495,)"
            ]
          },
          "metadata": {
            "tags": []
          },
          "execution_count": 16
        }
      ]
    },
    {
      "cell_type": "markdown",
      "metadata": {
        "id": "DWK1xe5B3OGt",
        "colab_type": "text"
      },
      "source": [
        "## **Creating the ANN Model**"
      ]
    },
    {
      "cell_type": "code",
      "metadata": {
        "id": "TAbmV6b124WE",
        "colab_type": "code",
        "colab": {}
      },
      "source": [
        "def network_model():\n",
        "  \n",
        "    model = Sequential()\n",
        "\n",
        "    model.add(Dense(10, input_dim=10, activation='linear'))\n",
        "  \n",
        "    model.add(Dense(6, activation='linear'))\n",
        "\n",
        "    model.add(Dense(1, activation='linear'))\n",
        "    \n",
        "    # Compile the model\n",
        "    model.compile(loss='mean_squared_error', \n",
        "                  optimizer='adam',\n",
        "                  metrics=[metrics.mse])\n",
        "    \n",
        "    return model"
      ],
      "execution_count": null,
      "outputs": []
    },
    {
      "cell_type": "markdown",
      "metadata": {
        "id": "JeRW4rTX3qVL",
        "colab_type": "text"
      },
      "source": [
        "## Initialising the model"
      ]
    },
    {
      "cell_type": "code",
      "metadata": {
        "id": "PSqaewn124R1",
        "colab_type": "code",
        "colab": {}
      },
      "source": [
        "model=network_model()"
      ],
      "execution_count": null,
      "outputs": []
    },
    {
      "cell_type": "markdown",
      "metadata": {
        "id": "3VLICNw13u7H",
        "colab_type": "text"
      },
      "source": [
        "## Determining the number of training parameters"
      ]
    },
    {
      "cell_type": "code",
      "metadata": {
        "id": "6IHOjPWJKE9y",
        "colab_type": "code",
        "colab": {
          "base_uri": "https://localhost:8080/",
          "height": 260
        },
        "outputId": "be0515a7-5951-4acc-8a6e-0ce07bb4a54c"
      },
      "source": [
        "model.summary()"
      ],
      "execution_count": null,
      "outputs": [
        {
          "output_type": "stream",
          "text": [
            "Model: \"sequential\"\n",
            "_________________________________________________________________\n",
            "Layer (type)                 Output Shape              Param #   \n",
            "=================================================================\n",
            "dense (Dense)                (None, 10)                110       \n",
            "_________________________________________________________________\n",
            "dense_1 (Dense)              (None, 6)                 66        \n",
            "_________________________________________________________________\n",
            "dense_2 (Dense)              (None, 1)                 7         \n",
            "=================================================================\n",
            "Total params: 183\n",
            "Trainable params: 183\n",
            "Non-trainable params: 0\n",
            "_________________________________________________________________\n"
          ],
          "name": "stdout"
        }
      ]
    },
    {
      "cell_type": "markdown",
      "metadata": {
        "id": "iUq8ST-034yw",
        "colab_type": "text"
      },
      "source": [
        "## Fitting the model"
      ]
    },
    {
      "cell_type": "code",
      "metadata": {
        "id": "tcFpg2lE-lCJ",
        "colab_type": "code",
        "colab": {}
      },
      "source": [
        "import time\n",
        "start = time.time()"
      ],
      "execution_count": null,
      "outputs": []
    },
    {
      "cell_type": "code",
      "metadata": {
        "id": "8iWj6prz34Bf",
        "colab_type": "code",
        "colab": {
          "base_uri": "https://localhost:8080/",
          "height": 1000
        },
        "outputId": "2fe6bb73-34b6-43c2-bbd6-c98010110bc1"
      },
      "source": [
        "Result = model.fit(X_train, Y_train, epochs=300, batch_size=120, validation_split=0.2,verbose=1)\n",
        "print(\"> Compilation Time : \", time.time() - start)"
      ],
      "execution_count": null,
      "outputs": [
        {
          "output_type": "stream",
          "text": [
            "Epoch 1/300\n",
            "10/10 [==============================] - 0s 18ms/step - loss: 0.0038 - mean_squared_error: 0.0038 - val_loss: 0.0025 - val_mean_squared_error: 0.0025\n",
            "Epoch 2/300\n",
            "10/10 [==============================] - 0s 3ms/step - loss: 7.5155e-04 - mean_squared_error: 7.5155e-04 - val_loss: 0.0013 - val_mean_squared_error: 0.0013\n",
            "Epoch 3/300\n",
            "10/10 [==============================] - 0s 3ms/step - loss: 5.9597e-04 - mean_squared_error: 5.9597e-04 - val_loss: 0.0013 - val_mean_squared_error: 0.0013\n",
            "Epoch 4/300\n",
            "10/10 [==============================] - 0s 3ms/step - loss: 4.4181e-04 - mean_squared_error: 4.4181e-04 - val_loss: 0.0014 - val_mean_squared_error: 0.0014\n",
            "Epoch 5/300\n",
            "10/10 [==============================] - 0s 3ms/step - loss: 3.9906e-04 - mean_squared_error: 3.9906e-04 - val_loss: 0.0029 - val_mean_squared_error: 0.0029\n",
            "Epoch 6/300\n",
            "10/10 [==============================] - 0s 3ms/step - loss: 3.7313e-04 - mean_squared_error: 3.7313e-04 - val_loss: 0.0018 - val_mean_squared_error: 0.0018\n",
            "Epoch 7/300\n",
            "10/10 [==============================] - 0s 4ms/step - loss: 3.5375e-04 - mean_squared_error: 3.5375e-04 - val_loss: 0.0015 - val_mean_squared_error: 0.0015\n",
            "Epoch 8/300\n",
            "10/10 [==============================] - 0s 4ms/step - loss: 3.5833e-04 - mean_squared_error: 3.5833e-04 - val_loss: 0.0016 - val_mean_squared_error: 0.0016\n",
            "Epoch 9/300\n",
            "10/10 [==============================] - 0s 3ms/step - loss: 3.4584e-04 - mean_squared_error: 3.4584e-04 - val_loss: 0.0014 - val_mean_squared_error: 0.0014\n",
            "Epoch 10/300\n",
            "10/10 [==============================] - 0s 3ms/step - loss: 3.2757e-04 - mean_squared_error: 3.2757e-04 - val_loss: 0.0014 - val_mean_squared_error: 0.0014\n",
            "Epoch 11/300\n",
            "10/10 [==============================] - 0s 3ms/step - loss: 3.1531e-04 - mean_squared_error: 3.1531e-04 - val_loss: 0.0014 - val_mean_squared_error: 0.0014\n",
            "Epoch 12/300\n",
            "10/10 [==============================] - 0s 3ms/step - loss: 3.1500e-04 - mean_squared_error: 3.1500e-04 - val_loss: 0.0013 - val_mean_squared_error: 0.0013\n",
            "Epoch 13/300\n",
            "10/10 [==============================] - 0s 3ms/step - loss: 3.1132e-04 - mean_squared_error: 3.1132e-04 - val_loss: 0.0016 - val_mean_squared_error: 0.0016\n",
            "Epoch 14/300\n",
            "10/10 [==============================] - 0s 3ms/step - loss: 3.0434e-04 - mean_squared_error: 3.0434e-04 - val_loss: 0.0011 - val_mean_squared_error: 0.0011\n",
            "Epoch 15/300\n",
            "10/10 [==============================] - 0s 3ms/step - loss: 2.9382e-04 - mean_squared_error: 2.9382e-04 - val_loss: 0.0011 - val_mean_squared_error: 0.0011\n",
            "Epoch 16/300\n",
            "10/10 [==============================] - 0s 3ms/step - loss: 2.8949e-04 - mean_squared_error: 2.8949e-04 - val_loss: 0.0012 - val_mean_squared_error: 0.0012\n",
            "Epoch 17/300\n",
            "10/10 [==============================] - 0s 3ms/step - loss: 3.0117e-04 - mean_squared_error: 3.0117e-04 - val_loss: 0.0010 - val_mean_squared_error: 0.0010\n",
            "Epoch 18/300\n",
            "10/10 [==============================] - 0s 3ms/step - loss: 2.7632e-04 - mean_squared_error: 2.7632e-04 - val_loss: 0.0011 - val_mean_squared_error: 0.0011\n",
            "Epoch 19/300\n",
            "10/10 [==============================] - 0s 3ms/step - loss: 2.7425e-04 - mean_squared_error: 2.7425e-04 - val_loss: 0.0010 - val_mean_squared_error: 0.0010\n",
            "Epoch 20/300\n",
            "10/10 [==============================] - 0s 3ms/step - loss: 2.6847e-04 - mean_squared_error: 2.6847e-04 - val_loss: 0.0011 - val_mean_squared_error: 0.0011\n",
            "Epoch 21/300\n",
            "10/10 [==============================] - 0s 3ms/step - loss: 2.8079e-04 - mean_squared_error: 2.8079e-04 - val_loss: 0.0011 - val_mean_squared_error: 0.0011\n",
            "Epoch 22/300\n",
            "10/10 [==============================] - 0s 4ms/step - loss: 2.7727e-04 - mean_squared_error: 2.7727e-04 - val_loss: 8.8677e-04 - val_mean_squared_error: 8.8677e-04\n",
            "Epoch 23/300\n",
            "10/10 [==============================] - 0s 3ms/step - loss: 2.6387e-04 - mean_squared_error: 2.6387e-04 - val_loss: 9.7920e-04 - val_mean_squared_error: 9.7920e-04\n",
            "Epoch 24/300\n",
            "10/10 [==============================] - 0s 3ms/step - loss: 2.7124e-04 - mean_squared_error: 2.7124e-04 - val_loss: 9.2720e-04 - val_mean_squared_error: 9.2720e-04\n",
            "Epoch 25/300\n",
            "10/10 [==============================] - 0s 3ms/step - loss: 2.6506e-04 - mean_squared_error: 2.6506e-04 - val_loss: 9.6518e-04 - val_mean_squared_error: 9.6518e-04\n",
            "Epoch 26/300\n",
            "10/10 [==============================] - 0s 3ms/step - loss: 2.5848e-04 - mean_squared_error: 2.5848e-04 - val_loss: 0.0010 - val_mean_squared_error: 0.0010\n",
            "Epoch 27/300\n",
            "10/10 [==============================] - 0s 3ms/step - loss: 2.5085e-04 - mean_squared_error: 2.5085e-04 - val_loss: 9.9649e-04 - val_mean_squared_error: 9.9649e-04\n",
            "Epoch 28/300\n",
            "10/10 [==============================] - 0s 3ms/step - loss: 2.5367e-04 - mean_squared_error: 2.5367e-04 - val_loss: 8.8860e-04 - val_mean_squared_error: 8.8860e-04\n",
            "Epoch 29/300\n",
            "10/10 [==============================] - 0s 3ms/step - loss: 2.5130e-04 - mean_squared_error: 2.5130e-04 - val_loss: 0.0012 - val_mean_squared_error: 0.0012\n",
            "Epoch 30/300\n",
            "10/10 [==============================] - 0s 3ms/step - loss: 2.5152e-04 - mean_squared_error: 2.5152e-04 - val_loss: 8.8373e-04 - val_mean_squared_error: 8.8373e-04\n",
            "Epoch 31/300\n",
            "10/10 [==============================] - 0s 3ms/step - loss: 2.4325e-04 - mean_squared_error: 2.4325e-04 - val_loss: 8.9720e-04 - val_mean_squared_error: 8.9720e-04\n",
            "Epoch 32/300\n",
            "10/10 [==============================] - 0s 3ms/step - loss: 2.4123e-04 - mean_squared_error: 2.4123e-04 - val_loss: 8.4590e-04 - val_mean_squared_error: 8.4590e-04\n",
            "Epoch 33/300\n",
            "10/10 [==============================] - 0s 3ms/step - loss: 2.4839e-04 - mean_squared_error: 2.4839e-04 - val_loss: 7.5684e-04 - val_mean_squared_error: 7.5684e-04\n",
            "Epoch 34/300\n",
            "10/10 [==============================] - 0s 3ms/step - loss: 2.5400e-04 - mean_squared_error: 2.5400e-04 - val_loss: 9.4771e-04 - val_mean_squared_error: 9.4771e-04\n",
            "Epoch 35/300\n",
            "10/10 [==============================] - 0s 3ms/step - loss: 2.7800e-04 - mean_squared_error: 2.7800e-04 - val_loss: 0.0011 - val_mean_squared_error: 0.0011\n",
            "Epoch 36/300\n",
            "10/10 [==============================] - 0s 3ms/step - loss: 2.5265e-04 - mean_squared_error: 2.5265e-04 - val_loss: 8.1943e-04 - val_mean_squared_error: 8.1943e-04\n",
            "Epoch 37/300\n",
            "10/10 [==============================] - 0s 3ms/step - loss: 2.4068e-04 - mean_squared_error: 2.4068e-04 - val_loss: 7.7894e-04 - val_mean_squared_error: 7.7894e-04\n",
            "Epoch 38/300\n",
            "10/10 [==============================] - 0s 3ms/step - loss: 2.4323e-04 - mean_squared_error: 2.4323e-04 - val_loss: 0.0010 - val_mean_squared_error: 0.0010\n",
            "Epoch 39/300\n",
            "10/10 [==============================] - 0s 3ms/step - loss: 2.5433e-04 - mean_squared_error: 2.5433e-04 - val_loss: 7.6696e-04 - val_mean_squared_error: 7.6696e-04\n",
            "Epoch 40/300\n",
            "10/10 [==============================] - 0s 3ms/step - loss: 2.7465e-04 - mean_squared_error: 2.7465e-04 - val_loss: 8.2227e-04 - val_mean_squared_error: 8.2227e-04\n",
            "Epoch 41/300\n",
            "10/10 [==============================] - 0s 3ms/step - loss: 2.3447e-04 - mean_squared_error: 2.3447e-04 - val_loss: 0.0011 - val_mean_squared_error: 0.0011\n",
            "Epoch 42/300\n",
            "10/10 [==============================] - 0s 3ms/step - loss: 2.3987e-04 - mean_squared_error: 2.3987e-04 - val_loss: 7.3382e-04 - val_mean_squared_error: 7.3382e-04\n",
            "Epoch 43/300\n",
            "10/10 [==============================] - 0s 3ms/step - loss: 2.4094e-04 - mean_squared_error: 2.4094e-04 - val_loss: 7.4725e-04 - val_mean_squared_error: 7.4725e-04\n",
            "Epoch 44/300\n",
            "10/10 [==============================] - 0s 3ms/step - loss: 2.2433e-04 - mean_squared_error: 2.2433e-04 - val_loss: 9.2675e-04 - val_mean_squared_error: 9.2675e-04\n",
            "Epoch 45/300\n",
            "10/10 [==============================] - 0s 3ms/step - loss: 2.2329e-04 - mean_squared_error: 2.2329e-04 - val_loss: 7.6776e-04 - val_mean_squared_error: 7.6776e-04\n",
            "Epoch 46/300\n",
            "10/10 [==============================] - 0s 3ms/step - loss: 2.2181e-04 - mean_squared_error: 2.2181e-04 - val_loss: 7.8828e-04 - val_mean_squared_error: 7.8828e-04\n",
            "Epoch 47/300\n",
            "10/10 [==============================] - 0s 4ms/step - loss: 2.2183e-04 - mean_squared_error: 2.2183e-04 - val_loss: 7.8305e-04 - val_mean_squared_error: 7.8305e-04\n",
            "Epoch 48/300\n",
            "10/10 [==============================] - 0s 3ms/step - loss: 2.3113e-04 - mean_squared_error: 2.3113e-04 - val_loss: 9.5853e-04 - val_mean_squared_error: 9.5853e-04\n",
            "Epoch 49/300\n",
            "10/10 [==============================] - 0s 3ms/step - loss: 2.3567e-04 - mean_squared_error: 2.3567e-04 - val_loss: 8.7846e-04 - val_mean_squared_error: 8.7846e-04\n",
            "Epoch 50/300\n",
            "10/10 [==============================] - 0s 3ms/step - loss: 2.3339e-04 - mean_squared_error: 2.3339e-04 - val_loss: 7.0831e-04 - val_mean_squared_error: 7.0831e-04\n",
            "Epoch 51/300\n",
            "10/10 [==============================] - 0s 3ms/step - loss: 2.2871e-04 - mean_squared_error: 2.2871e-04 - val_loss: 7.6999e-04 - val_mean_squared_error: 7.6999e-04\n",
            "Epoch 52/300\n",
            "10/10 [==============================] - 0s 3ms/step - loss: 2.2190e-04 - mean_squared_error: 2.2190e-04 - val_loss: 7.9133e-04 - val_mean_squared_error: 7.9133e-04\n",
            "Epoch 53/300\n",
            "10/10 [==============================] - 0s 3ms/step - loss: 2.1695e-04 - mean_squared_error: 2.1695e-04 - val_loss: 7.5584e-04 - val_mean_squared_error: 7.5584e-04\n",
            "Epoch 54/300\n",
            "10/10 [==============================] - 0s 3ms/step - loss: 2.1355e-04 - mean_squared_error: 2.1355e-04 - val_loss: 8.8773e-04 - val_mean_squared_error: 8.8773e-04\n",
            "Epoch 55/300\n",
            "10/10 [==============================] - 0s 4ms/step - loss: 2.1661e-04 - mean_squared_error: 2.1661e-04 - val_loss: 7.3712e-04 - val_mean_squared_error: 7.3712e-04\n",
            "Epoch 56/300\n",
            "10/10 [==============================] - 0s 3ms/step - loss: 2.1766e-04 - mean_squared_error: 2.1766e-04 - val_loss: 8.7085e-04 - val_mean_squared_error: 8.7085e-04\n",
            "Epoch 57/300\n",
            "10/10 [==============================] - 0s 3ms/step - loss: 2.5432e-04 - mean_squared_error: 2.5432e-04 - val_loss: 7.1307e-04 - val_mean_squared_error: 7.1307e-04\n",
            "Epoch 58/300\n",
            "10/10 [==============================] - 0s 3ms/step - loss: 2.2414e-04 - mean_squared_error: 2.2414e-04 - val_loss: 7.9655e-04 - val_mean_squared_error: 7.9655e-04\n",
            "Epoch 59/300\n",
            "10/10 [==============================] - 0s 3ms/step - loss: 2.1809e-04 - mean_squared_error: 2.1809e-04 - val_loss: 8.6742e-04 - val_mean_squared_error: 8.6742e-04\n",
            "Epoch 60/300\n",
            "10/10 [==============================] - 0s 3ms/step - loss: 2.3588e-04 - mean_squared_error: 2.3588e-04 - val_loss: 7.3828e-04 - val_mean_squared_error: 7.3828e-04\n",
            "Epoch 61/300\n",
            "10/10 [==============================] - 0s 3ms/step - loss: 2.3708e-04 - mean_squared_error: 2.3708e-04 - val_loss: 7.6917e-04 - val_mean_squared_error: 7.6917e-04\n",
            "Epoch 62/300\n",
            "10/10 [==============================] - 0s 3ms/step - loss: 2.1900e-04 - mean_squared_error: 2.1900e-04 - val_loss: 0.0010 - val_mean_squared_error: 0.0010\n",
            "Epoch 63/300\n",
            "10/10 [==============================] - 0s 3ms/step - loss: 2.5066e-04 - mean_squared_error: 2.5066e-04 - val_loss: 7.3170e-04 - val_mean_squared_error: 7.3170e-04\n",
            "Epoch 64/300\n",
            "10/10 [==============================] - 0s 3ms/step - loss: 2.2337e-04 - mean_squared_error: 2.2337e-04 - val_loss: 6.9446e-04 - val_mean_squared_error: 6.9446e-04\n",
            "Epoch 65/300\n",
            "10/10 [==============================] - 0s 3ms/step - loss: 2.2223e-04 - mean_squared_error: 2.2223e-04 - val_loss: 7.1709e-04 - val_mean_squared_error: 7.1709e-04\n",
            "Epoch 66/300\n",
            "10/10 [==============================] - 0s 3ms/step - loss: 2.1303e-04 - mean_squared_error: 2.1303e-04 - val_loss: 7.6213e-04 - val_mean_squared_error: 7.6213e-04\n",
            "Epoch 67/300\n",
            "10/10 [==============================] - 0s 3ms/step - loss: 2.0814e-04 - mean_squared_error: 2.0814e-04 - val_loss: 9.4920e-04 - val_mean_squared_error: 9.4920e-04\n",
            "Epoch 68/300\n",
            "10/10 [==============================] - 0s 3ms/step - loss: 2.1228e-04 - mean_squared_error: 2.1228e-04 - val_loss: 6.9722e-04 - val_mean_squared_error: 6.9722e-04\n",
            "Epoch 69/300\n",
            "10/10 [==============================] - 0s 3ms/step - loss: 2.0458e-04 - mean_squared_error: 2.0458e-04 - val_loss: 7.4791e-04 - val_mean_squared_error: 7.4791e-04\n",
            "Epoch 70/300\n",
            "10/10 [==============================] - 0s 3ms/step - loss: 2.0521e-04 - mean_squared_error: 2.0521e-04 - val_loss: 7.2097e-04 - val_mean_squared_error: 7.2097e-04\n",
            "Epoch 71/300\n",
            "10/10 [==============================] - 0s 3ms/step - loss: 2.0400e-04 - mean_squared_error: 2.0400e-04 - val_loss: 7.7475e-04 - val_mean_squared_error: 7.7475e-04\n",
            "Epoch 72/300\n",
            "10/10 [==============================] - 0s 4ms/step - loss: 2.0670e-04 - mean_squared_error: 2.0670e-04 - val_loss: 7.6327e-04 - val_mean_squared_error: 7.6327e-04\n",
            "Epoch 73/300\n",
            "10/10 [==============================] - 0s 3ms/step - loss: 2.0571e-04 - mean_squared_error: 2.0571e-04 - val_loss: 6.8491e-04 - val_mean_squared_error: 6.8491e-04\n",
            "Epoch 74/300\n",
            "10/10 [==============================] - 0s 3ms/step - loss: 1.9898e-04 - mean_squared_error: 1.9898e-04 - val_loss: 8.0279e-04 - val_mean_squared_error: 8.0279e-04\n",
            "Epoch 75/300\n",
            "10/10 [==============================] - 0s 3ms/step - loss: 2.1835e-04 - mean_squared_error: 2.1835e-04 - val_loss: 6.7376e-04 - val_mean_squared_error: 6.7376e-04\n",
            "Epoch 76/300\n",
            "10/10 [==============================] - 0s 3ms/step - loss: 2.0420e-04 - mean_squared_error: 2.0420e-04 - val_loss: 7.5651e-04 - val_mean_squared_error: 7.5651e-04\n",
            "Epoch 77/300\n",
            "10/10 [==============================] - 0s 3ms/step - loss: 2.0219e-04 - mean_squared_error: 2.0219e-04 - val_loss: 6.9095e-04 - val_mean_squared_error: 6.9095e-04\n",
            "Epoch 78/300\n",
            "10/10 [==============================] - 0s 3ms/step - loss: 2.0191e-04 - mean_squared_error: 2.0191e-04 - val_loss: 7.9515e-04 - val_mean_squared_error: 7.9515e-04\n",
            "Epoch 79/300\n",
            "10/10 [==============================] - 0s 3ms/step - loss: 2.2855e-04 - mean_squared_error: 2.2855e-04 - val_loss: 7.1403e-04 - val_mean_squared_error: 7.1403e-04\n",
            "Epoch 80/300\n",
            "10/10 [==============================] - 0s 3ms/step - loss: 2.0113e-04 - mean_squared_error: 2.0113e-04 - val_loss: 6.7470e-04 - val_mean_squared_error: 6.7470e-04\n",
            "Epoch 81/300\n",
            "10/10 [==============================] - 0s 3ms/step - loss: 2.0316e-04 - mean_squared_error: 2.0316e-04 - val_loss: 7.1442e-04 - val_mean_squared_error: 7.1442e-04\n",
            "Epoch 82/300\n",
            "10/10 [==============================] - 0s 3ms/step - loss: 1.9958e-04 - mean_squared_error: 1.9958e-04 - val_loss: 7.5994e-04 - val_mean_squared_error: 7.5994e-04\n",
            "Epoch 83/300\n",
            "10/10 [==============================] - 0s 3ms/step - loss: 2.1399e-04 - mean_squared_error: 2.1399e-04 - val_loss: 6.8216e-04 - val_mean_squared_error: 6.8216e-04\n",
            "Epoch 84/300\n",
            "10/10 [==============================] - 0s 3ms/step - loss: 2.3118e-04 - mean_squared_error: 2.3118e-04 - val_loss: 7.7445e-04 - val_mean_squared_error: 7.7445e-04\n",
            "Epoch 85/300\n",
            "10/10 [==============================] - 0s 3ms/step - loss: 2.2139e-04 - mean_squared_error: 2.2139e-04 - val_loss: 7.5397e-04 - val_mean_squared_error: 7.5397e-04\n",
            "Epoch 86/300\n",
            "10/10 [==============================] - 0s 3ms/step - loss: 2.0178e-04 - mean_squared_error: 2.0178e-04 - val_loss: 8.7475e-04 - val_mean_squared_error: 8.7475e-04\n",
            "Epoch 87/300\n",
            "10/10 [==============================] - 0s 4ms/step - loss: 2.0416e-04 - mean_squared_error: 2.0416e-04 - val_loss: 6.9573e-04 - val_mean_squared_error: 6.9573e-04\n",
            "Epoch 88/300\n",
            "10/10 [==============================] - 0s 3ms/step - loss: 2.0891e-04 - mean_squared_error: 2.0891e-04 - val_loss: 7.1693e-04 - val_mean_squared_error: 7.1693e-04\n",
            "Epoch 89/300\n",
            "10/10 [==============================] - 0s 3ms/step - loss: 2.1860e-04 - mean_squared_error: 2.1860e-04 - val_loss: 7.4561e-04 - val_mean_squared_error: 7.4561e-04\n",
            "Epoch 90/300\n",
            "10/10 [==============================] - 0s 3ms/step - loss: 2.0093e-04 - mean_squared_error: 2.0093e-04 - val_loss: 8.4152e-04 - val_mean_squared_error: 8.4152e-04\n",
            "Epoch 91/300\n",
            "10/10 [==============================] - 0s 3ms/step - loss: 1.9461e-04 - mean_squared_error: 1.9461e-04 - val_loss: 6.7025e-04 - val_mean_squared_error: 6.7025e-04\n",
            "Epoch 92/300\n",
            "10/10 [==============================] - 0s 3ms/step - loss: 2.1907e-04 - mean_squared_error: 2.1907e-04 - val_loss: 6.6047e-04 - val_mean_squared_error: 6.6047e-04\n",
            "Epoch 93/300\n",
            "10/10 [==============================] - 0s 3ms/step - loss: 2.0125e-04 - mean_squared_error: 2.0125e-04 - val_loss: 9.4502e-04 - val_mean_squared_error: 9.4502e-04\n",
            "Epoch 94/300\n",
            "10/10 [==============================] - 0s 3ms/step - loss: 1.9835e-04 - mean_squared_error: 1.9835e-04 - val_loss: 7.2781e-04 - val_mean_squared_error: 7.2781e-04\n",
            "Epoch 95/300\n",
            "10/10 [==============================] - 0s 3ms/step - loss: 2.0876e-04 - mean_squared_error: 2.0876e-04 - val_loss: 7.2456e-04 - val_mean_squared_error: 7.2456e-04\n",
            "Epoch 96/300\n",
            "10/10 [==============================] - 0s 3ms/step - loss: 1.9977e-04 - mean_squared_error: 1.9977e-04 - val_loss: 6.7354e-04 - val_mean_squared_error: 6.7354e-04\n",
            "Epoch 97/300\n",
            "10/10 [==============================] - 0s 3ms/step - loss: 1.9458e-04 - mean_squared_error: 1.9458e-04 - val_loss: 6.6189e-04 - val_mean_squared_error: 6.6189e-04\n",
            "Epoch 98/300\n",
            "10/10 [==============================] - 0s 3ms/step - loss: 1.9270e-04 - mean_squared_error: 1.9270e-04 - val_loss: 7.8482e-04 - val_mean_squared_error: 7.8482e-04\n",
            "Epoch 99/300\n",
            "10/10 [==============================] - 0s 3ms/step - loss: 1.8719e-04 - mean_squared_error: 1.8719e-04 - val_loss: 6.7583e-04 - val_mean_squared_error: 6.7583e-04\n",
            "Epoch 100/300\n",
            "10/10 [==============================] - 0s 3ms/step - loss: 1.8675e-04 - mean_squared_error: 1.8675e-04 - val_loss: 6.9672e-04 - val_mean_squared_error: 6.9672e-04\n",
            "Epoch 101/300\n",
            "10/10 [==============================] - 0s 3ms/step - loss: 1.8900e-04 - mean_squared_error: 1.8900e-04 - val_loss: 6.6836e-04 - val_mean_squared_error: 6.6836e-04\n",
            "Epoch 102/300\n",
            "10/10 [==============================] - 0s 3ms/step - loss: 1.9272e-04 - mean_squared_error: 1.9272e-04 - val_loss: 6.5621e-04 - val_mean_squared_error: 6.5621e-04\n",
            "Epoch 103/300\n",
            "10/10 [==============================] - 0s 4ms/step - loss: 1.9194e-04 - mean_squared_error: 1.9194e-04 - val_loss: 6.8723e-04 - val_mean_squared_error: 6.8723e-04\n",
            "Epoch 104/300\n",
            "10/10 [==============================] - 0s 4ms/step - loss: 1.9330e-04 - mean_squared_error: 1.9330e-04 - val_loss: 6.5469e-04 - val_mean_squared_error: 6.5469e-04\n",
            "Epoch 105/300\n",
            "10/10 [==============================] - 0s 4ms/step - loss: 1.8602e-04 - mean_squared_error: 1.8602e-04 - val_loss: 7.1007e-04 - val_mean_squared_error: 7.1007e-04\n",
            "Epoch 106/300\n",
            "10/10 [==============================] - 0s 3ms/step - loss: 1.9438e-04 - mean_squared_error: 1.9438e-04 - val_loss: 8.4630e-04 - val_mean_squared_error: 8.4630e-04\n",
            "Epoch 107/300\n",
            "10/10 [==============================] - 0s 3ms/step - loss: 1.8251e-04 - mean_squared_error: 1.8251e-04 - val_loss: 6.8183e-04 - val_mean_squared_error: 6.8183e-04\n",
            "Epoch 108/300\n",
            "10/10 [==============================] - 0s 3ms/step - loss: 1.8569e-04 - mean_squared_error: 1.8569e-04 - val_loss: 6.6266e-04 - val_mean_squared_error: 6.6266e-04\n",
            "Epoch 109/300\n",
            "10/10 [==============================] - 0s 3ms/step - loss: 1.9193e-04 - mean_squared_error: 1.9193e-04 - val_loss: 6.5870e-04 - val_mean_squared_error: 6.5870e-04\n",
            "Epoch 110/300\n",
            "10/10 [==============================] - 0s 3ms/step - loss: 1.9198e-04 - mean_squared_error: 1.9198e-04 - val_loss: 6.8780e-04 - val_mean_squared_error: 6.8780e-04\n",
            "Epoch 111/300\n",
            "10/10 [==============================] - 0s 3ms/step - loss: 1.8663e-04 - mean_squared_error: 1.8663e-04 - val_loss: 6.4660e-04 - val_mean_squared_error: 6.4660e-04\n",
            "Epoch 112/300\n",
            "10/10 [==============================] - 0s 3ms/step - loss: 1.9186e-04 - mean_squared_error: 1.9186e-04 - val_loss: 8.0680e-04 - val_mean_squared_error: 8.0680e-04\n",
            "Epoch 113/300\n",
            "10/10 [==============================] - 0s 3ms/step - loss: 1.8708e-04 - mean_squared_error: 1.8708e-04 - val_loss: 6.5787e-04 - val_mean_squared_error: 6.5787e-04\n",
            "Epoch 114/300\n",
            "10/10 [==============================] - 0s 3ms/step - loss: 1.8879e-04 - mean_squared_error: 1.8879e-04 - val_loss: 6.5302e-04 - val_mean_squared_error: 6.5302e-04\n",
            "Epoch 115/300\n",
            "10/10 [==============================] - 0s 3ms/step - loss: 1.9043e-04 - mean_squared_error: 1.9043e-04 - val_loss: 6.4104e-04 - val_mean_squared_error: 6.4104e-04\n",
            "Epoch 116/300\n",
            "10/10 [==============================] - 0s 3ms/step - loss: 1.8009e-04 - mean_squared_error: 1.8009e-04 - val_loss: 6.8975e-04 - val_mean_squared_error: 6.8975e-04\n",
            "Epoch 117/300\n",
            "10/10 [==============================] - 0s 3ms/step - loss: 1.8305e-04 - mean_squared_error: 1.8305e-04 - val_loss: 6.6767e-04 - val_mean_squared_error: 6.6767e-04\n",
            "Epoch 118/300\n",
            "10/10 [==============================] - 0s 3ms/step - loss: 1.8141e-04 - mean_squared_error: 1.8141e-04 - val_loss: 7.2438e-04 - val_mean_squared_error: 7.2438e-04\n",
            "Epoch 119/300\n",
            "10/10 [==============================] - 0s 3ms/step - loss: 1.8082e-04 - mean_squared_error: 1.8082e-04 - val_loss: 6.5069e-04 - val_mean_squared_error: 6.5069e-04\n",
            "Epoch 120/300\n",
            "10/10 [==============================] - 0s 3ms/step - loss: 1.8318e-04 - mean_squared_error: 1.8318e-04 - val_loss: 6.3392e-04 - val_mean_squared_error: 6.3392e-04\n",
            "Epoch 121/300\n",
            "10/10 [==============================] - 0s 3ms/step - loss: 1.8230e-04 - mean_squared_error: 1.8230e-04 - val_loss: 8.7450e-04 - val_mean_squared_error: 8.7450e-04\n",
            "Epoch 122/300\n",
            "10/10 [==============================] - 0s 3ms/step - loss: 1.9311e-04 - mean_squared_error: 1.9311e-04 - val_loss: 6.4285e-04 - val_mean_squared_error: 6.4285e-04\n",
            "Epoch 123/300\n",
            "10/10 [==============================] - 0s 3ms/step - loss: 1.9241e-04 - mean_squared_error: 1.9241e-04 - val_loss: 6.7355e-04 - val_mean_squared_error: 6.7355e-04\n",
            "Epoch 124/300\n",
            "10/10 [==============================] - 0s 3ms/step - loss: 2.0955e-04 - mean_squared_error: 2.0955e-04 - val_loss: 6.4995e-04 - val_mean_squared_error: 6.4995e-04\n",
            "Epoch 125/300\n",
            "10/10 [==============================] - 0s 3ms/step - loss: 1.8134e-04 - mean_squared_error: 1.8134e-04 - val_loss: 7.2262e-04 - val_mean_squared_error: 7.2262e-04\n",
            "Epoch 126/300\n",
            "10/10 [==============================] - 0s 3ms/step - loss: 1.8561e-04 - mean_squared_error: 1.8561e-04 - val_loss: 6.6699e-04 - val_mean_squared_error: 6.6699e-04\n",
            "Epoch 127/300\n",
            "10/10 [==============================] - 0s 4ms/step - loss: 1.8777e-04 - mean_squared_error: 1.8777e-04 - val_loss: 7.3462e-04 - val_mean_squared_error: 7.3462e-04\n",
            "Epoch 128/300\n",
            "10/10 [==============================] - 0s 3ms/step - loss: 1.9945e-04 - mean_squared_error: 1.9945e-04 - val_loss: 7.1096e-04 - val_mean_squared_error: 7.1096e-04\n",
            "Epoch 129/300\n",
            "10/10 [==============================] - 0s 3ms/step - loss: 1.8803e-04 - mean_squared_error: 1.8803e-04 - val_loss: 7.4845e-04 - val_mean_squared_error: 7.4845e-04\n",
            "Epoch 130/300\n",
            "10/10 [==============================] - 0s 3ms/step - loss: 1.8743e-04 - mean_squared_error: 1.8743e-04 - val_loss: 6.4178e-04 - val_mean_squared_error: 6.4178e-04\n",
            "Epoch 131/300\n",
            "10/10 [==============================] - 0s 3ms/step - loss: 1.8684e-04 - mean_squared_error: 1.8684e-04 - val_loss: 6.5344e-04 - val_mean_squared_error: 6.5344e-04\n",
            "Epoch 132/300\n",
            "10/10 [==============================] - 0s 3ms/step - loss: 2.2226e-04 - mean_squared_error: 2.2226e-04 - val_loss: 7.6830e-04 - val_mean_squared_error: 7.6830e-04\n",
            "Epoch 133/300\n",
            "10/10 [==============================] - 0s 3ms/step - loss: 2.3821e-04 - mean_squared_error: 2.3821e-04 - val_loss: 6.8918e-04 - val_mean_squared_error: 6.8918e-04\n",
            "Epoch 134/300\n",
            "10/10 [==============================] - 0s 3ms/step - loss: 2.0481e-04 - mean_squared_error: 2.0481e-04 - val_loss: 7.7345e-04 - val_mean_squared_error: 7.7345e-04\n",
            "Epoch 135/300\n",
            "10/10 [==============================] - 0s 3ms/step - loss: 1.9545e-04 - mean_squared_error: 1.9545e-04 - val_loss: 6.5948e-04 - val_mean_squared_error: 6.5948e-04\n",
            "Epoch 136/300\n",
            "10/10 [==============================] - 0s 3ms/step - loss: 1.9040e-04 - mean_squared_error: 1.9040e-04 - val_loss: 7.0101e-04 - val_mean_squared_error: 7.0101e-04\n",
            "Epoch 137/300\n",
            "10/10 [==============================] - 0s 3ms/step - loss: 1.7607e-04 - mean_squared_error: 1.7607e-04 - val_loss: 6.2217e-04 - val_mean_squared_error: 6.2217e-04\n",
            "Epoch 138/300\n",
            "10/10 [==============================] - 0s 3ms/step - loss: 1.7767e-04 - mean_squared_error: 1.7767e-04 - val_loss: 9.3687e-04 - val_mean_squared_error: 9.3687e-04\n",
            "Epoch 139/300\n",
            "10/10 [==============================] - 0s 3ms/step - loss: 1.9533e-04 - mean_squared_error: 1.9533e-04 - val_loss: 7.1460e-04 - val_mean_squared_error: 7.1460e-04\n",
            "Epoch 140/300\n",
            "10/10 [==============================] - 0s 3ms/step - loss: 2.0409e-04 - mean_squared_error: 2.0409e-04 - val_loss: 6.2387e-04 - val_mean_squared_error: 6.2387e-04\n",
            "Epoch 141/300\n",
            "10/10 [==============================] - 0s 4ms/step - loss: 1.9821e-04 - mean_squared_error: 1.9821e-04 - val_loss: 6.5463e-04 - val_mean_squared_error: 6.5463e-04\n",
            "Epoch 142/300\n",
            "10/10 [==============================] - 0s 3ms/step - loss: 1.9648e-04 - mean_squared_error: 1.9648e-04 - val_loss: 6.4386e-04 - val_mean_squared_error: 6.4386e-04\n",
            "Epoch 143/300\n",
            "10/10 [==============================] - 0s 3ms/step - loss: 1.7893e-04 - mean_squared_error: 1.7893e-04 - val_loss: 7.9099e-04 - val_mean_squared_error: 7.9099e-04\n",
            "Epoch 144/300\n",
            "10/10 [==============================] - 0s 3ms/step - loss: 1.8409e-04 - mean_squared_error: 1.8409e-04 - val_loss: 6.2317e-04 - val_mean_squared_error: 6.2317e-04\n",
            "Epoch 145/300\n",
            "10/10 [==============================] - 0s 3ms/step - loss: 1.7400e-04 - mean_squared_error: 1.7400e-04 - val_loss: 7.7421e-04 - val_mean_squared_error: 7.7421e-04\n",
            "Epoch 146/300\n",
            "10/10 [==============================] - 0s 3ms/step - loss: 1.8613e-04 - mean_squared_error: 1.8613e-04 - val_loss: 8.0857e-04 - val_mean_squared_error: 8.0857e-04\n",
            "Epoch 147/300\n",
            "10/10 [==============================] - 0s 3ms/step - loss: 1.7548e-04 - mean_squared_error: 1.7548e-04 - val_loss: 7.3416e-04 - val_mean_squared_error: 7.3416e-04\n",
            "Epoch 148/300\n",
            "10/10 [==============================] - 0s 3ms/step - loss: 1.9276e-04 - mean_squared_error: 1.9276e-04 - val_loss: 6.9499e-04 - val_mean_squared_error: 6.9499e-04\n",
            "Epoch 149/300\n",
            "10/10 [==============================] - 0s 3ms/step - loss: 1.9458e-04 - mean_squared_error: 1.9458e-04 - val_loss: 6.2456e-04 - val_mean_squared_error: 6.2456e-04\n",
            "Epoch 150/300\n",
            "10/10 [==============================] - 0s 3ms/step - loss: 1.7745e-04 - mean_squared_error: 1.7745e-04 - val_loss: 7.0621e-04 - val_mean_squared_error: 7.0621e-04\n",
            "Epoch 151/300\n",
            "10/10 [==============================] - 0s 3ms/step - loss: 1.8124e-04 - mean_squared_error: 1.8124e-04 - val_loss: 6.3313e-04 - val_mean_squared_error: 6.3313e-04\n",
            "Epoch 152/300\n",
            "10/10 [==============================] - 0s 3ms/step - loss: 1.9299e-04 - mean_squared_error: 1.9299e-04 - val_loss: 6.3331e-04 - val_mean_squared_error: 6.3331e-04\n",
            "Epoch 153/300\n",
            "10/10 [==============================] - 0s 3ms/step - loss: 1.9008e-04 - mean_squared_error: 1.9008e-04 - val_loss: 0.0011 - val_mean_squared_error: 0.0011\n",
            "Epoch 154/300\n",
            "10/10 [==============================] - 0s 3ms/step - loss: 1.9774e-04 - mean_squared_error: 1.9774e-04 - val_loss: 6.3655e-04 - val_mean_squared_error: 6.3655e-04\n",
            "Epoch 155/300\n",
            "10/10 [==============================] - 0s 3ms/step - loss: 1.8627e-04 - mean_squared_error: 1.8627e-04 - val_loss: 6.6089e-04 - val_mean_squared_error: 6.6089e-04\n",
            "Epoch 156/300\n",
            "10/10 [==============================] - 0s 3ms/step - loss: 1.7314e-04 - mean_squared_error: 1.7314e-04 - val_loss: 7.1653e-04 - val_mean_squared_error: 7.1653e-04\n",
            "Epoch 157/300\n",
            "10/10 [==============================] - 0s 3ms/step - loss: 1.8078e-04 - mean_squared_error: 1.8078e-04 - val_loss: 6.2759e-04 - val_mean_squared_error: 6.2759e-04\n",
            "Epoch 158/300\n",
            "10/10 [==============================] - 0s 3ms/step - loss: 1.8280e-04 - mean_squared_error: 1.8280e-04 - val_loss: 6.1774e-04 - val_mean_squared_error: 6.1774e-04\n",
            "Epoch 159/300\n",
            "10/10 [==============================] - 0s 3ms/step - loss: 1.9071e-04 - mean_squared_error: 1.9071e-04 - val_loss: 7.2230e-04 - val_mean_squared_error: 7.2230e-04\n",
            "Epoch 160/300\n",
            "10/10 [==============================] - 0s 3ms/step - loss: 1.8587e-04 - mean_squared_error: 1.8587e-04 - val_loss: 6.5027e-04 - val_mean_squared_error: 6.5027e-04\n",
            "Epoch 161/300\n",
            "10/10 [==============================] - 0s 3ms/step - loss: 1.7850e-04 - mean_squared_error: 1.7850e-04 - val_loss: 7.2299e-04 - val_mean_squared_error: 7.2299e-04\n",
            "Epoch 162/300\n",
            "10/10 [==============================] - 0s 3ms/step - loss: 1.7092e-04 - mean_squared_error: 1.7092e-04 - val_loss: 6.2216e-04 - val_mean_squared_error: 6.2216e-04\n",
            "Epoch 163/300\n",
            "10/10 [==============================] - 0s 4ms/step - loss: 1.8523e-04 - mean_squared_error: 1.8523e-04 - val_loss: 6.1707e-04 - val_mean_squared_error: 6.1707e-04\n",
            "Epoch 164/300\n",
            "10/10 [==============================] - 0s 3ms/step - loss: 1.7059e-04 - mean_squared_error: 1.7059e-04 - val_loss: 6.8870e-04 - val_mean_squared_error: 6.8870e-04\n",
            "Epoch 165/300\n",
            "10/10 [==============================] - 0s 3ms/step - loss: 1.9700e-04 - mean_squared_error: 1.9700e-04 - val_loss: 8.6334e-04 - val_mean_squared_error: 8.6334e-04\n",
            "Epoch 166/300\n",
            "10/10 [==============================] - 0s 3ms/step - loss: 2.3073e-04 - mean_squared_error: 2.3073e-04 - val_loss: 6.1424e-04 - val_mean_squared_error: 6.1424e-04\n",
            "Epoch 167/300\n",
            "10/10 [==============================] - 0s 3ms/step - loss: 1.8588e-04 - mean_squared_error: 1.8588e-04 - val_loss: 6.5595e-04 - val_mean_squared_error: 6.5595e-04\n",
            "Epoch 168/300\n",
            "10/10 [==============================] - 0s 4ms/step - loss: 1.8627e-04 - mean_squared_error: 1.8627e-04 - val_loss: 6.1028e-04 - val_mean_squared_error: 6.1028e-04\n",
            "Epoch 169/300\n",
            "10/10 [==============================] - 0s 3ms/step - loss: 1.6855e-04 - mean_squared_error: 1.6855e-04 - val_loss: 6.4185e-04 - val_mean_squared_error: 6.4185e-04\n",
            "Epoch 170/300\n",
            "10/10 [==============================] - 0s 4ms/step - loss: 1.7245e-04 - mean_squared_error: 1.7245e-04 - val_loss: 7.5677e-04 - val_mean_squared_error: 7.5677e-04\n",
            "Epoch 171/300\n",
            "10/10 [==============================] - 0s 3ms/step - loss: 1.7256e-04 - mean_squared_error: 1.7256e-04 - val_loss: 6.1316e-04 - val_mean_squared_error: 6.1316e-04\n",
            "Epoch 172/300\n",
            "10/10 [==============================] - 0s 3ms/step - loss: 1.6948e-04 - mean_squared_error: 1.6948e-04 - val_loss: 6.1315e-04 - val_mean_squared_error: 6.1315e-04\n",
            "Epoch 173/300\n",
            "10/10 [==============================] - 0s 3ms/step - loss: 1.6223e-04 - mean_squared_error: 1.6223e-04 - val_loss: 7.3514e-04 - val_mean_squared_error: 7.3514e-04\n",
            "Epoch 174/300\n",
            "10/10 [==============================] - 0s 4ms/step - loss: 1.6396e-04 - mean_squared_error: 1.6396e-04 - val_loss: 6.2870e-04 - val_mean_squared_error: 6.2870e-04\n",
            "Epoch 175/300\n",
            "10/10 [==============================] - 0s 3ms/step - loss: 1.6518e-04 - mean_squared_error: 1.6518e-04 - val_loss: 6.1239e-04 - val_mean_squared_error: 6.1239e-04\n",
            "Epoch 176/300\n",
            "10/10 [==============================] - 0s 3ms/step - loss: 1.7547e-04 - mean_squared_error: 1.7547e-04 - val_loss: 6.0803e-04 - val_mean_squared_error: 6.0803e-04\n",
            "Epoch 177/300\n",
            "10/10 [==============================] - 0s 3ms/step - loss: 1.7240e-04 - mean_squared_error: 1.7240e-04 - val_loss: 6.0496e-04 - val_mean_squared_error: 6.0496e-04\n",
            "Epoch 178/300\n",
            "10/10 [==============================] - 0s 3ms/step - loss: 1.7397e-04 - mean_squared_error: 1.7397e-04 - val_loss: 8.6545e-04 - val_mean_squared_error: 8.6545e-04\n",
            "Epoch 179/300\n",
            "10/10 [==============================] - 0s 3ms/step - loss: 1.8424e-04 - mean_squared_error: 1.8424e-04 - val_loss: 7.8383e-04 - val_mean_squared_error: 7.8383e-04\n",
            "Epoch 180/300\n",
            "10/10 [==============================] - 0s 4ms/step - loss: 1.6896e-04 - mean_squared_error: 1.6896e-04 - val_loss: 6.6654e-04 - val_mean_squared_error: 6.6654e-04\n",
            "Epoch 181/300\n",
            "10/10 [==============================] - 0s 3ms/step - loss: 1.6969e-04 - mean_squared_error: 1.6969e-04 - val_loss: 7.2812e-04 - val_mean_squared_error: 7.2812e-04\n",
            "Epoch 182/300\n",
            "10/10 [==============================] - 0s 3ms/step - loss: 1.6889e-04 - mean_squared_error: 1.6889e-04 - val_loss: 7.1946e-04 - val_mean_squared_error: 7.1946e-04\n",
            "Epoch 183/300\n",
            "10/10 [==============================] - 0s 4ms/step - loss: 1.7641e-04 - mean_squared_error: 1.7641e-04 - val_loss: 7.9896e-04 - val_mean_squared_error: 7.9896e-04\n",
            "Epoch 184/300\n",
            "10/10 [==============================] - 0s 3ms/step - loss: 1.8295e-04 - mean_squared_error: 1.8295e-04 - val_loss: 6.0113e-04 - val_mean_squared_error: 6.0113e-04\n",
            "Epoch 185/300\n",
            "10/10 [==============================] - 0s 3ms/step - loss: 1.8820e-04 - mean_squared_error: 1.8820e-04 - val_loss: 7.0325e-04 - val_mean_squared_error: 7.0325e-04\n",
            "Epoch 186/300\n",
            "10/10 [==============================] - 0s 3ms/step - loss: 1.7388e-04 - mean_squared_error: 1.7388e-04 - val_loss: 7.8477e-04 - val_mean_squared_error: 7.8477e-04\n",
            "Epoch 187/300\n",
            "10/10 [==============================] - 0s 3ms/step - loss: 1.7739e-04 - mean_squared_error: 1.7739e-04 - val_loss: 6.6744e-04 - val_mean_squared_error: 6.6744e-04\n",
            "Epoch 188/300\n",
            "10/10 [==============================] - 0s 3ms/step - loss: 2.0358e-04 - mean_squared_error: 2.0358e-04 - val_loss: 6.9750e-04 - val_mean_squared_error: 6.9750e-04\n",
            "Epoch 189/300\n",
            "10/10 [==============================] - 0s 3ms/step - loss: 1.7479e-04 - mean_squared_error: 1.7479e-04 - val_loss: 7.3177e-04 - val_mean_squared_error: 7.3177e-04\n",
            "Epoch 190/300\n",
            "10/10 [==============================] - 0s 3ms/step - loss: 1.7616e-04 - mean_squared_error: 1.7616e-04 - val_loss: 7.3426e-04 - val_mean_squared_error: 7.3426e-04\n",
            "Epoch 191/300\n",
            "10/10 [==============================] - 0s 3ms/step - loss: 1.6469e-04 - mean_squared_error: 1.6469e-04 - val_loss: 6.0771e-04 - val_mean_squared_error: 6.0771e-04\n",
            "Epoch 192/300\n",
            "10/10 [==============================] - 0s 3ms/step - loss: 1.7207e-04 - mean_squared_error: 1.7207e-04 - val_loss: 6.0860e-04 - val_mean_squared_error: 6.0860e-04\n",
            "Epoch 193/300\n",
            "10/10 [==============================] - 0s 3ms/step - loss: 1.6872e-04 - mean_squared_error: 1.6872e-04 - val_loss: 7.1414e-04 - val_mean_squared_error: 7.1414e-04\n",
            "Epoch 194/300\n",
            "10/10 [==============================] - 0s 3ms/step - loss: 1.8119e-04 - mean_squared_error: 1.8119e-04 - val_loss: 6.9685e-04 - val_mean_squared_error: 6.9685e-04\n",
            "Epoch 195/300\n",
            "10/10 [==============================] - 0s 3ms/step - loss: 1.7069e-04 - mean_squared_error: 1.7069e-04 - val_loss: 6.6205e-04 - val_mean_squared_error: 6.6205e-04\n",
            "Epoch 196/300\n",
            "10/10 [==============================] - 0s 3ms/step - loss: 1.6171e-04 - mean_squared_error: 1.6171e-04 - val_loss: 5.9064e-04 - val_mean_squared_error: 5.9064e-04\n",
            "Epoch 197/300\n",
            "10/10 [==============================] - 0s 3ms/step - loss: 1.6354e-04 - mean_squared_error: 1.6354e-04 - val_loss: 7.9048e-04 - val_mean_squared_error: 7.9048e-04\n",
            "Epoch 198/300\n",
            "10/10 [==============================] - 0s 3ms/step - loss: 1.7034e-04 - mean_squared_error: 1.7034e-04 - val_loss: 5.9942e-04 - val_mean_squared_error: 5.9942e-04\n",
            "Epoch 199/300\n",
            "10/10 [==============================] - 0s 3ms/step - loss: 1.6809e-04 - mean_squared_error: 1.6809e-04 - val_loss: 6.3129e-04 - val_mean_squared_error: 6.3129e-04\n",
            "Epoch 200/300\n",
            "10/10 [==============================] - 0s 3ms/step - loss: 1.6774e-04 - mean_squared_error: 1.6774e-04 - val_loss: 6.4382e-04 - val_mean_squared_error: 6.4382e-04\n",
            "Epoch 201/300\n",
            "10/10 [==============================] - 0s 3ms/step - loss: 1.7187e-04 - mean_squared_error: 1.7187e-04 - val_loss: 5.8667e-04 - val_mean_squared_error: 5.8667e-04\n",
            "Epoch 202/300\n",
            "10/10 [==============================] - 0s 3ms/step - loss: 1.6836e-04 - mean_squared_error: 1.6836e-04 - val_loss: 6.1899e-04 - val_mean_squared_error: 6.1899e-04\n",
            "Epoch 203/300\n",
            "10/10 [==============================] - 0s 3ms/step - loss: 1.7713e-04 - mean_squared_error: 1.7713e-04 - val_loss: 8.1174e-04 - val_mean_squared_error: 8.1174e-04\n",
            "Epoch 204/300\n",
            "10/10 [==============================] - 0s 3ms/step - loss: 1.8996e-04 - mean_squared_error: 1.8996e-04 - val_loss: 5.9369e-04 - val_mean_squared_error: 5.9369e-04\n",
            "Epoch 205/300\n",
            "10/10 [==============================] - 0s 3ms/step - loss: 1.7357e-04 - mean_squared_error: 1.7357e-04 - val_loss: 5.9279e-04 - val_mean_squared_error: 5.9279e-04\n",
            "Epoch 206/300\n",
            "10/10 [==============================] - 0s 3ms/step - loss: 1.6577e-04 - mean_squared_error: 1.6577e-04 - val_loss: 6.9096e-04 - val_mean_squared_error: 6.9096e-04\n",
            "Epoch 207/300\n",
            "10/10 [==============================] - 0s 3ms/step - loss: 1.7464e-04 - mean_squared_error: 1.7464e-04 - val_loss: 6.9127e-04 - val_mean_squared_error: 6.9127e-04\n",
            "Epoch 208/300\n",
            "10/10 [==============================] - 0s 3ms/step - loss: 1.7593e-04 - mean_squared_error: 1.7593e-04 - val_loss: 8.6572e-04 - val_mean_squared_error: 8.6572e-04\n",
            "Epoch 209/300\n",
            "10/10 [==============================] - 0s 3ms/step - loss: 1.8897e-04 - mean_squared_error: 1.8897e-04 - val_loss: 5.8198e-04 - val_mean_squared_error: 5.8198e-04\n",
            "Epoch 210/300\n",
            "10/10 [==============================] - 0s 3ms/step - loss: 1.7630e-04 - mean_squared_error: 1.7630e-04 - val_loss: 6.1085e-04 - val_mean_squared_error: 6.1085e-04\n",
            "Epoch 211/300\n",
            "10/10 [==============================] - 0s 3ms/step - loss: 1.5984e-04 - mean_squared_error: 1.5984e-04 - val_loss: 5.9531e-04 - val_mean_squared_error: 5.9531e-04\n",
            "Epoch 212/300\n",
            "10/10 [==============================] - 0s 3ms/step - loss: 1.6082e-04 - mean_squared_error: 1.6082e-04 - val_loss: 6.3568e-04 - val_mean_squared_error: 6.3568e-04\n",
            "Epoch 213/300\n",
            "10/10 [==============================] - 0s 3ms/step - loss: 1.5937e-04 - mean_squared_error: 1.5937e-04 - val_loss: 6.3324e-04 - val_mean_squared_error: 6.3324e-04\n",
            "Epoch 214/300\n",
            "10/10 [==============================] - 0s 3ms/step - loss: 1.5904e-04 - mean_squared_error: 1.5904e-04 - val_loss: 5.8857e-04 - val_mean_squared_error: 5.8857e-04\n",
            "Epoch 215/300\n",
            "10/10 [==============================] - 0s 3ms/step - loss: 1.8462e-04 - mean_squared_error: 1.8462e-04 - val_loss: 6.4967e-04 - val_mean_squared_error: 6.4967e-04\n",
            "Epoch 216/300\n",
            "10/10 [==============================] - 0s 3ms/step - loss: 2.0180e-04 - mean_squared_error: 2.0180e-04 - val_loss: 6.9633e-04 - val_mean_squared_error: 6.9633e-04\n",
            "Epoch 217/300\n",
            "10/10 [==============================] - 0s 4ms/step - loss: 1.7279e-04 - mean_squared_error: 1.7279e-04 - val_loss: 7.0024e-04 - val_mean_squared_error: 7.0024e-04\n",
            "Epoch 218/300\n",
            "10/10 [==============================] - 0s 3ms/step - loss: 1.7820e-04 - mean_squared_error: 1.7820e-04 - val_loss: 8.9024e-04 - val_mean_squared_error: 8.9024e-04\n",
            "Epoch 219/300\n",
            "10/10 [==============================] - 0s 3ms/step - loss: 1.7686e-04 - mean_squared_error: 1.7686e-04 - val_loss: 5.9914e-04 - val_mean_squared_error: 5.9914e-04\n",
            "Epoch 220/300\n",
            "10/10 [==============================] - 0s 4ms/step - loss: 1.8602e-04 - mean_squared_error: 1.8602e-04 - val_loss: 5.8699e-04 - val_mean_squared_error: 5.8699e-04\n",
            "Epoch 221/300\n",
            "10/10 [==============================] - 0s 3ms/step - loss: 1.9535e-04 - mean_squared_error: 1.9535e-04 - val_loss: 5.8430e-04 - val_mean_squared_error: 5.8430e-04\n",
            "Epoch 222/300\n",
            "10/10 [==============================] - 0s 3ms/step - loss: 1.7246e-04 - mean_squared_error: 1.7246e-04 - val_loss: 6.1918e-04 - val_mean_squared_error: 6.1918e-04\n",
            "Epoch 223/300\n",
            "10/10 [==============================] - 0s 3ms/step - loss: 1.6160e-04 - mean_squared_error: 1.6160e-04 - val_loss: 6.7877e-04 - val_mean_squared_error: 6.7877e-04\n",
            "Epoch 224/300\n",
            "10/10 [==============================] - 0s 3ms/step - loss: 1.6181e-04 - mean_squared_error: 1.6181e-04 - val_loss: 7.2476e-04 - val_mean_squared_error: 7.2476e-04\n",
            "Epoch 225/300\n",
            "10/10 [==============================] - 0s 3ms/step - loss: 1.6626e-04 - mean_squared_error: 1.6626e-04 - val_loss: 7.9899e-04 - val_mean_squared_error: 7.9899e-04\n",
            "Epoch 226/300\n",
            "10/10 [==============================] - 0s 3ms/step - loss: 1.6996e-04 - mean_squared_error: 1.6996e-04 - val_loss: 6.3206e-04 - val_mean_squared_error: 6.3206e-04\n",
            "Epoch 227/300\n",
            "10/10 [==============================] - 0s 3ms/step - loss: 1.7596e-04 - mean_squared_error: 1.7596e-04 - val_loss: 9.0303e-04 - val_mean_squared_error: 9.0303e-04\n",
            "Epoch 228/300\n",
            "10/10 [==============================] - 0s 4ms/step - loss: 1.7580e-04 - mean_squared_error: 1.7580e-04 - val_loss: 5.9716e-04 - val_mean_squared_error: 5.9716e-04\n",
            "Epoch 229/300\n",
            "10/10 [==============================] - 0s 3ms/step - loss: 1.6238e-04 - mean_squared_error: 1.6238e-04 - val_loss: 5.9936e-04 - val_mean_squared_error: 5.9936e-04\n",
            "Epoch 230/300\n",
            "10/10 [==============================] - 0s 3ms/step - loss: 1.6640e-04 - mean_squared_error: 1.6640e-04 - val_loss: 7.0299e-04 - val_mean_squared_error: 7.0299e-04\n",
            "Epoch 231/300\n",
            "10/10 [==============================] - 0s 3ms/step - loss: 1.6600e-04 - mean_squared_error: 1.6600e-04 - val_loss: 5.8831e-04 - val_mean_squared_error: 5.8831e-04\n",
            "Epoch 232/300\n",
            "10/10 [==============================] - 0s 3ms/step - loss: 1.7423e-04 - mean_squared_error: 1.7423e-04 - val_loss: 6.3805e-04 - val_mean_squared_error: 6.3805e-04\n",
            "Epoch 233/300\n",
            "10/10 [==============================] - 0s 3ms/step - loss: 1.5964e-04 - mean_squared_error: 1.5964e-04 - val_loss: 9.8382e-04 - val_mean_squared_error: 9.8382e-04\n",
            "Epoch 234/300\n",
            "10/10 [==============================] - 0s 3ms/step - loss: 1.6719e-04 - mean_squared_error: 1.6719e-04 - val_loss: 5.7775e-04 - val_mean_squared_error: 5.7775e-04\n",
            "Epoch 235/300\n",
            "10/10 [==============================] - 0s 3ms/step - loss: 1.7130e-04 - mean_squared_error: 1.7130e-04 - val_loss: 5.7736e-04 - val_mean_squared_error: 5.7736e-04\n",
            "Epoch 236/300\n",
            "10/10 [==============================] - 0s 3ms/step - loss: 2.0531e-04 - mean_squared_error: 2.0531e-04 - val_loss: 6.1400e-04 - val_mean_squared_error: 6.1400e-04\n",
            "Epoch 237/300\n",
            "10/10 [==============================] - 0s 3ms/step - loss: 1.7676e-04 - mean_squared_error: 1.7676e-04 - val_loss: 5.7997e-04 - val_mean_squared_error: 5.7997e-04\n",
            "Epoch 238/300\n",
            "10/10 [==============================] - 0s 3ms/step - loss: 1.6639e-04 - mean_squared_error: 1.6639e-04 - val_loss: 7.3115e-04 - val_mean_squared_error: 7.3115e-04\n",
            "Epoch 239/300\n",
            "10/10 [==============================] - 0s 4ms/step - loss: 1.5940e-04 - mean_squared_error: 1.5940e-04 - val_loss: 6.0867e-04 - val_mean_squared_error: 6.0867e-04\n",
            "Epoch 240/300\n",
            "10/10 [==============================] - 0s 3ms/step - loss: 1.5732e-04 - mean_squared_error: 1.5732e-04 - val_loss: 6.9100e-04 - val_mean_squared_error: 6.9100e-04\n",
            "Epoch 241/300\n",
            "10/10 [==============================] - 0s 3ms/step - loss: 1.5661e-04 - mean_squared_error: 1.5661e-04 - val_loss: 5.7379e-04 - val_mean_squared_error: 5.7379e-04\n",
            "Epoch 242/300\n",
            "10/10 [==============================] - 0s 3ms/step - loss: 1.5935e-04 - mean_squared_error: 1.5935e-04 - val_loss: 6.3492e-04 - val_mean_squared_error: 6.3492e-04\n",
            "Epoch 243/300\n",
            "10/10 [==============================] - 0s 3ms/step - loss: 1.6348e-04 - mean_squared_error: 1.6348e-04 - val_loss: 7.6860e-04 - val_mean_squared_error: 7.6860e-04\n",
            "Epoch 244/300\n",
            "10/10 [==============================] - 0s 3ms/step - loss: 1.7768e-04 - mean_squared_error: 1.7768e-04 - val_loss: 5.6952e-04 - val_mean_squared_error: 5.6952e-04\n",
            "Epoch 245/300\n",
            "10/10 [==============================] - 0s 3ms/step - loss: 1.8542e-04 - mean_squared_error: 1.8542e-04 - val_loss: 5.7544e-04 - val_mean_squared_error: 5.7544e-04\n",
            "Epoch 246/300\n",
            "10/10 [==============================] - 0s 3ms/step - loss: 1.6276e-04 - mean_squared_error: 1.6276e-04 - val_loss: 5.9709e-04 - val_mean_squared_error: 5.9709e-04\n",
            "Epoch 247/300\n",
            "10/10 [==============================] - 0s 4ms/step - loss: 1.7294e-04 - mean_squared_error: 1.7294e-04 - val_loss: 5.6864e-04 - val_mean_squared_error: 5.6864e-04\n",
            "Epoch 248/300\n",
            "10/10 [==============================] - 0s 3ms/step - loss: 1.5343e-04 - mean_squared_error: 1.5343e-04 - val_loss: 6.5958e-04 - val_mean_squared_error: 6.5958e-04\n",
            "Epoch 249/300\n",
            "10/10 [==============================] - 0s 3ms/step - loss: 1.6270e-04 - mean_squared_error: 1.6270e-04 - val_loss: 5.7115e-04 - val_mean_squared_error: 5.7115e-04\n",
            "Epoch 250/300\n",
            "10/10 [==============================] - 0s 3ms/step - loss: 1.6090e-04 - mean_squared_error: 1.6090e-04 - val_loss: 5.6760e-04 - val_mean_squared_error: 5.6760e-04\n",
            "Epoch 251/300\n",
            "10/10 [==============================] - 0s 3ms/step - loss: 1.5798e-04 - mean_squared_error: 1.5798e-04 - val_loss: 6.0247e-04 - val_mean_squared_error: 6.0247e-04\n",
            "Epoch 252/300\n",
            "10/10 [==============================] - 0s 4ms/step - loss: 1.5912e-04 - mean_squared_error: 1.5912e-04 - val_loss: 7.1456e-04 - val_mean_squared_error: 7.1456e-04\n",
            "Epoch 253/300\n",
            "10/10 [==============================] - 0s 3ms/step - loss: 1.6676e-04 - mean_squared_error: 1.6676e-04 - val_loss: 6.6455e-04 - val_mean_squared_error: 6.6455e-04\n",
            "Epoch 254/300\n",
            "10/10 [==============================] - 0s 3ms/step - loss: 1.5824e-04 - mean_squared_error: 1.5824e-04 - val_loss: 5.9538e-04 - val_mean_squared_error: 5.9538e-04\n",
            "Epoch 255/300\n",
            "10/10 [==============================] - 0s 4ms/step - loss: 1.6594e-04 - mean_squared_error: 1.6594e-04 - val_loss: 5.7083e-04 - val_mean_squared_error: 5.7083e-04\n",
            "Epoch 256/300\n",
            "10/10 [==============================] - 0s 3ms/step - loss: 1.6283e-04 - mean_squared_error: 1.6283e-04 - val_loss: 6.1810e-04 - val_mean_squared_error: 6.1810e-04\n",
            "Epoch 257/300\n",
            "10/10 [==============================] - 0s 3ms/step - loss: 1.5693e-04 - mean_squared_error: 1.5693e-04 - val_loss: 6.3098e-04 - val_mean_squared_error: 6.3098e-04\n",
            "Epoch 258/300\n",
            "10/10 [==============================] - 0s 3ms/step - loss: 1.6555e-04 - mean_squared_error: 1.6555e-04 - val_loss: 6.9384e-04 - val_mean_squared_error: 6.9384e-04\n",
            "Epoch 259/300\n",
            "10/10 [==============================] - 0s 3ms/step - loss: 1.7076e-04 - mean_squared_error: 1.7076e-04 - val_loss: 5.6432e-04 - val_mean_squared_error: 5.6432e-04\n",
            "Epoch 260/300\n",
            "10/10 [==============================] - 0s 3ms/step - loss: 1.6251e-04 - mean_squared_error: 1.6251e-04 - val_loss: 5.8087e-04 - val_mean_squared_error: 5.8087e-04\n",
            "Epoch 261/300\n",
            "10/10 [==============================] - 0s 3ms/step - loss: 1.5060e-04 - mean_squared_error: 1.5060e-04 - val_loss: 7.4055e-04 - val_mean_squared_error: 7.4055e-04\n",
            "Epoch 262/300\n",
            "10/10 [==============================] - 0s 3ms/step - loss: 1.6104e-04 - mean_squared_error: 1.6104e-04 - val_loss: 7.2219e-04 - val_mean_squared_error: 7.2219e-04\n",
            "Epoch 263/300\n",
            "10/10 [==============================] - 0s 3ms/step - loss: 1.5960e-04 - mean_squared_error: 1.5960e-04 - val_loss: 5.9654e-04 - val_mean_squared_error: 5.9654e-04\n",
            "Epoch 264/300\n",
            "10/10 [==============================] - 0s 3ms/step - loss: 1.5321e-04 - mean_squared_error: 1.5321e-04 - val_loss: 6.4748e-04 - val_mean_squared_error: 6.4748e-04\n",
            "Epoch 265/300\n",
            "10/10 [==============================] - 0s 3ms/step - loss: 1.5687e-04 - mean_squared_error: 1.5687e-04 - val_loss: 5.9216e-04 - val_mean_squared_error: 5.9216e-04\n",
            "Epoch 266/300\n",
            "10/10 [==============================] - 0s 3ms/step - loss: 1.5867e-04 - mean_squared_error: 1.5867e-04 - val_loss: 6.3959e-04 - val_mean_squared_error: 6.3959e-04\n",
            "Epoch 267/300\n",
            "10/10 [==============================] - 0s 3ms/step - loss: 1.5798e-04 - mean_squared_error: 1.5798e-04 - val_loss: 5.7617e-04 - val_mean_squared_error: 5.7617e-04\n",
            "Epoch 268/300\n",
            "10/10 [==============================] - 0s 3ms/step - loss: 1.6874e-04 - mean_squared_error: 1.6874e-04 - val_loss: 6.6740e-04 - val_mean_squared_error: 6.6740e-04\n",
            "Epoch 269/300\n",
            "10/10 [==============================] - 0s 3ms/step - loss: 1.6575e-04 - mean_squared_error: 1.6575e-04 - val_loss: 5.5984e-04 - val_mean_squared_error: 5.5984e-04\n",
            "Epoch 270/300\n",
            "10/10 [==============================] - 0s 3ms/step - loss: 1.6536e-04 - mean_squared_error: 1.6536e-04 - val_loss: 5.8405e-04 - val_mean_squared_error: 5.8405e-04\n",
            "Epoch 271/300\n",
            "10/10 [==============================] - 0s 3ms/step - loss: 1.7005e-04 - mean_squared_error: 1.7005e-04 - val_loss: 5.7483e-04 - val_mean_squared_error: 5.7483e-04\n",
            "Epoch 272/300\n",
            "10/10 [==============================] - 0s 3ms/step - loss: 1.7848e-04 - mean_squared_error: 1.7848e-04 - val_loss: 6.3478e-04 - val_mean_squared_error: 6.3478e-04\n",
            "Epoch 273/300\n",
            "10/10 [==============================] - 0s 3ms/step - loss: 1.6395e-04 - mean_squared_error: 1.6395e-04 - val_loss: 7.1811e-04 - val_mean_squared_error: 7.1811e-04\n",
            "Epoch 274/300\n",
            "10/10 [==============================] - 0s 4ms/step - loss: 1.5943e-04 - mean_squared_error: 1.5943e-04 - val_loss: 5.9042e-04 - val_mean_squared_error: 5.9042e-04\n",
            "Epoch 275/300\n",
            "10/10 [==============================] - 0s 3ms/step - loss: 1.4982e-04 - mean_squared_error: 1.4982e-04 - val_loss: 7.1847e-04 - val_mean_squared_error: 7.1847e-04\n",
            "Epoch 276/300\n",
            "10/10 [==============================] - 0s 3ms/step - loss: 1.5359e-04 - mean_squared_error: 1.5359e-04 - val_loss: 5.5700e-04 - val_mean_squared_error: 5.5700e-04\n",
            "Epoch 277/300\n",
            "10/10 [==============================] - 0s 3ms/step - loss: 1.5191e-04 - mean_squared_error: 1.5191e-04 - val_loss: 5.6405e-04 - val_mean_squared_error: 5.6405e-04\n",
            "Epoch 278/300\n",
            "10/10 [==============================] - 0s 3ms/step - loss: 1.6997e-04 - mean_squared_error: 1.6997e-04 - val_loss: 5.9872e-04 - val_mean_squared_error: 5.9872e-04\n",
            "Epoch 279/300\n",
            "10/10 [==============================] - 0s 3ms/step - loss: 1.7664e-04 - mean_squared_error: 1.7664e-04 - val_loss: 6.1457e-04 - val_mean_squared_error: 6.1457e-04\n",
            "Epoch 280/300\n",
            "10/10 [==============================] - 0s 3ms/step - loss: 1.7139e-04 - mean_squared_error: 1.7139e-04 - val_loss: 5.6982e-04 - val_mean_squared_error: 5.6982e-04\n",
            "Epoch 281/300\n",
            "10/10 [==============================] - 0s 3ms/step - loss: 1.8154e-04 - mean_squared_error: 1.8154e-04 - val_loss: 6.3288e-04 - val_mean_squared_error: 6.3288e-04\n",
            "Epoch 282/300\n",
            "10/10 [==============================] - 0s 3ms/step - loss: 1.5916e-04 - mean_squared_error: 1.5916e-04 - val_loss: 6.6024e-04 - val_mean_squared_error: 6.6024e-04\n",
            "Epoch 283/300\n",
            "10/10 [==============================] - 0s 3ms/step - loss: 1.5289e-04 - mean_squared_error: 1.5289e-04 - val_loss: 6.2411e-04 - val_mean_squared_error: 6.2411e-04\n",
            "Epoch 284/300\n",
            "10/10 [==============================] - 0s 3ms/step - loss: 1.6458e-04 - mean_squared_error: 1.6458e-04 - val_loss: 5.7879e-04 - val_mean_squared_error: 5.7879e-04\n",
            "Epoch 285/300\n",
            "10/10 [==============================] - 0s 3ms/step - loss: 1.7310e-04 - mean_squared_error: 1.7310e-04 - val_loss: 6.3498e-04 - val_mean_squared_error: 6.3498e-04\n",
            "Epoch 286/300\n",
            "10/10 [==============================] - 0s 4ms/step - loss: 1.6008e-04 - mean_squared_error: 1.6008e-04 - val_loss: 6.3223e-04 - val_mean_squared_error: 6.3223e-04\n",
            "Epoch 287/300\n",
            "10/10 [==============================] - 0s 3ms/step - loss: 1.5645e-04 - mean_squared_error: 1.5645e-04 - val_loss: 6.1555e-04 - val_mean_squared_error: 6.1555e-04\n",
            "Epoch 288/300\n",
            "10/10 [==============================] - 0s 3ms/step - loss: 1.6460e-04 - mean_squared_error: 1.6460e-04 - val_loss: 5.9514e-04 - val_mean_squared_error: 5.9514e-04\n",
            "Epoch 289/300\n",
            "10/10 [==============================] - 0s 3ms/step - loss: 1.7229e-04 - mean_squared_error: 1.7229e-04 - val_loss: 5.7198e-04 - val_mean_squared_error: 5.7198e-04\n",
            "Epoch 290/300\n",
            "10/10 [==============================] - 0s 3ms/step - loss: 1.5730e-04 - mean_squared_error: 1.5730e-04 - val_loss: 5.6240e-04 - val_mean_squared_error: 5.6240e-04\n",
            "Epoch 291/300\n",
            "10/10 [==============================] - 0s 3ms/step - loss: 1.6469e-04 - mean_squared_error: 1.6469e-04 - val_loss: 6.2908e-04 - val_mean_squared_error: 6.2908e-04\n",
            "Epoch 292/300\n",
            "10/10 [==============================] - 0s 3ms/step - loss: 1.7536e-04 - mean_squared_error: 1.7536e-04 - val_loss: 5.6211e-04 - val_mean_squared_error: 5.6211e-04\n",
            "Epoch 293/300\n",
            "10/10 [==============================] - 0s 3ms/step - loss: 1.6722e-04 - mean_squared_error: 1.6722e-04 - val_loss: 5.8949e-04 - val_mean_squared_error: 5.8949e-04\n",
            "Epoch 294/300\n",
            "10/10 [==============================] - 0s 3ms/step - loss: 1.6756e-04 - mean_squared_error: 1.6756e-04 - val_loss: 5.7918e-04 - val_mean_squared_error: 5.7918e-04\n",
            "Epoch 295/300\n",
            "10/10 [==============================] - 0s 3ms/step - loss: 1.6272e-04 - mean_squared_error: 1.6272e-04 - val_loss: 5.6594e-04 - val_mean_squared_error: 5.6594e-04\n",
            "Epoch 296/300\n",
            "10/10 [==============================] - 0s 3ms/step - loss: 1.5626e-04 - mean_squared_error: 1.5626e-04 - val_loss: 5.6295e-04 - val_mean_squared_error: 5.6295e-04\n",
            "Epoch 297/300\n",
            "10/10 [==============================] - 0s 3ms/step - loss: 1.5018e-04 - mean_squared_error: 1.5018e-04 - val_loss: 5.5819e-04 - val_mean_squared_error: 5.5819e-04\n",
            "Epoch 298/300\n",
            "10/10 [==============================] - 0s 3ms/step - loss: 1.5132e-04 - mean_squared_error: 1.5132e-04 - val_loss: 6.7888e-04 - val_mean_squared_error: 6.7888e-04\n",
            "Epoch 299/300\n",
            "10/10 [==============================] - 0s 3ms/step - loss: 1.5637e-04 - mean_squared_error: 1.5637e-04 - val_loss: 6.1208e-04 - val_mean_squared_error: 6.1208e-04\n",
            "Epoch 300/300\n",
            "10/10 [==============================] - 0s 3ms/step - loss: 1.6627e-04 - mean_squared_error: 1.6627e-04 - val_loss: 5.8536e-04 - val_mean_squared_error: 5.8536e-04\n",
            "> Compilation Time :  12.29660153388977\n"
          ],
          "name": "stdout"
        }
      ]
    },
    {
      "cell_type": "markdown",
      "metadata": {
        "id": "6HVLxIoX9ixt",
        "colab_type": "text"
      },
      "source": [
        "## **Plot of the training loss verses the validation loss**"
      ]
    },
    {
      "cell_type": "code",
      "metadata": {
        "id": "147LI_aP96-G",
        "colab_type": "code",
        "colab": {
          "base_uri": "https://localhost:8080/",
          "height": 408
        },
        "outputId": "c5b33c18-8f82-4717-a3eb-c8ea78bca95c"
      },
      "source": [
        "import matplotlib.pyplot as plt\n",
        "plt.figure(figsize=(10,6))\n",
        "plt.plot(Result.epoch,Result.history['loss'],label=\"Train loss\")\n",
        "plt.plot(Result.epoch,Result.history['val_loss'],label=\"Validation loss\")\n",
        "plt.legend(fontsize=16)\n",
        "plt.xlabel(\"Epochs\",fontsize=14)\n",
        "plt.ylabel(\"Loss\",fontsize=14)\n",
        "plt.title('Plot of the training loss and validation loss')\n",
        "plt.show()"
      ],
      "execution_count": null,
      "outputs": [
        {
          "output_type": "display_data",
          "data": {
            "image/png": "[encoded data removed]",
            "text/plain": [
              "<Figure size 720x432 with 1 Axes>"
            ]
          },
          "metadata": {
            "tags": [],
            "needs_background": "light"
          }
        }
      ]
    },
    {
      "cell_type": "markdown",
      "metadata": {
        "id": "jfnEl3ky4KaN",
        "colab_type": "text"
      },
      "source": [
        "### **Prediction on the testing dataset**"
      ]
    },
    {
      "cell_type": "markdown",
      "metadata": {
        "id": "LWpQLneN_6sQ",
        "colab_type": "text"
      },
      "source": [
        "### Creating the testing dataset"
      ]
    },
    {
      "cell_type": "code",
      "metadata": {
        "id": "hFYMzRCX_p56",
        "colab_type": "code",
        "colab": {}
      },
      "source": [
        "### create a new array containing scaled values from index  1445 to 2149\n",
        "Test_data = scaled_data[training_data_len-10:, :]\n",
        "\n",
        "### Create the datasets X_test and Y_test\n",
        "X_test = []\n",
        "Y_test = Data[training_data_len:, :]\n",
        "\n",
        "for i in range (10, len(Test_data)):\n",
        "  X_test.append (Test_data[i-10:i, 0])"
      ],
      "execution_count": null,
      "outputs": []
    },
    {
      "cell_type": "markdown",
      "metadata": {
        "id": "RSsyzPmW6YSD",
        "colab_type": "text"
      },
      "source": [
        "### Convert the data to a numpy array"
      ]
    },
    {
      "cell_type": "code",
      "metadata": {
        "id": "zZbIM9FA6ePA",
        "colab_type": "code",
        "colab": {}
      },
      "source": [
        "x_test = np.array(X_test)"
      ],
      "execution_count": null,
      "outputs": []
    },
    {
      "cell_type": "code",
      "metadata": {
        "id": "JmBxjQ9WZyUh",
        "colab_type": "code",
        "colab": {}
      },
      "source": [
        "y_test=np.array(Y_test)"
      ],
      "execution_count": null,
      "outputs": []
    },
    {
      "cell_type": "code",
      "metadata": {
        "id": "HdLj4AGhKE3z",
        "colab_type": "code",
        "colab": {}
      },
      "source": [
        "test_prediction = model.predict(x_test)"
      ],
      "execution_count": null,
      "outputs": []
    },
    {
      "cell_type": "code",
      "metadata": {
        "id": "DM9KRFax_Mw3",
        "colab_type": "code",
        "colab": {
          "base_uri": "https://localhost:8080/",
          "height": 538
        },
        "outputId": "49087430-50ef-4e10-fa17-d9abc3bb6457"
      },
      "source": [
        "test_prediction[0:30]"
      ],
      "execution_count": null,
      "outputs": [
        {
          "output_type": "execute_result",
          "data": {
            "text/plain": [
              "array([[0.31161603],\n",
              "       [0.31206238],\n",
              "       [0.31282672],\n",
              "       [0.31336457],\n",
              "       [0.31377092],\n",
              "       [0.31286645],\n",
              "       [0.31748673],\n",
              "       [0.31545287],\n",
              "       [0.32118288],\n",
              "       [0.31790692],\n",
              "       [0.31444827],\n",
              "       [0.3165354 ],\n",
              "       [0.31570348],\n",
              "       [0.31202236],\n",
              "       [0.31382924],\n",
              "       [0.2845338 ],\n",
              "       [0.27598146],\n",
              "       [0.27833962],\n",
              "       [0.268144  ],\n",
              "       [0.27106228],\n",
              "       [0.24499147],\n",
              "       [0.21110578],\n",
              "       [0.23223408],\n",
              "       [0.2058178 ],\n",
              "       [0.1990663 ],\n",
              "       [0.19487786],\n",
              "       [0.18956983],\n",
              "       [0.18553564],\n",
              "       [0.1750742 ],\n",
              "       [0.19690557]], dtype=float32)"
            ]
          },
          "metadata": {
            "tags": []
          },
          "execution_count": 27
        }
      ]
    },
    {
      "cell_type": "markdown",
      "metadata": {
        "id": "BZFoe0Uobfip",
        "colab_type": "text"
      },
      "source": [
        "## Transforming the test data "
      ]
    },
    {
      "cell_type": "code",
      "metadata": {
        "id": "41aeZ_ZcbseH",
        "colab_type": "code",
        "colab": {
          "base_uri": "https://localhost:8080/",
          "height": 364
        },
        "outputId": "7b2c06a6-d2a6-4dc4-95b3-417cd436d3bf"
      },
      "source": [
        "Test_prediction=scaler.inverse_transform(test_prediction)\n",
        "Test_prediction[0:20]"
      ],
      "execution_count": null,
      "outputs": [
        {
          "output_type": "execute_result",
          "data": {
            "text/plain": [
              "array([[6198.306 ],\n",
              "       [6206.929 ],\n",
              "       [6221.696 ],\n",
              "       [6232.0864],\n",
              "       [6239.937 ],\n",
              "       [6222.4634],\n",
              "       [6311.724 ],\n",
              "       [6272.431 ],\n",
              "       [6383.131 ],\n",
              "       [6319.8413],\n",
              "       [6253.023 ],\n",
              "       [6293.345 ],\n",
              "       [6277.273 ],\n",
              "       [6206.156 ],\n",
              "       [6241.064 ],\n",
              "       [5675.096 ],\n",
              "       [5509.871 ],\n",
              "       [5555.429 ],\n",
              "       [5358.457 ],\n",
              "       [5414.836 ]], dtype=float32)"
            ]
          },
          "metadata": {
            "tags": []
          },
          "execution_count": 28
        }
      ]
    },
    {
      "cell_type": "markdown",
      "metadata": {
        "id": "xtIayTSzBoF3",
        "colab_type": "text"
      },
      "source": [
        "## Plotting the predictions on the scaled data for testing and compare with the actual\n",
        "\n"
      ]
    },
    {
      "cell_type": "code",
      "metadata": {
        "id": "UNrLAoMpBB14",
        "colab_type": "code",
        "colab": {
          "base_uri": "https://localhost:8080/",
          "height": 408
        },
        "outputId": "fb8eef0f-37d7-4186-d734-7bdd1f9abf54"
      },
      "source": [
        "plt.figure(figsize=(10,6))\n",
        "plt.plot(Test_prediction,color='r',label=\"prediction\")\n",
        "plt.plot(Y_test,color='b',label=\"Actual\")\n",
        "plt.legend(fontsize=16)\n",
        "plt.xlabel(\"Time (days)\",fontsize=14)\n",
        "plt.ylabel(\"Scaled bitcoin prices\",fontsize=14)\n",
        "plt.title('Prediction of one day ahead with 10 days lookback')\n",
        "plt.legend(fontsize=14)\n",
        "plt.show()"
      ],
      "execution_count": null,
      "outputs": [
        {
          "output_type": "display_data",
          "data": {
            "image/png": "[encoded data removed]",
            "text/plain": [
              "<Figure size 720x432 with 1 Axes>"
            ]
          },
          "metadata": {
            "tags": [],
            "needs_background": "light"
          }
        }
      ]
    },
    {
      "cell_type": "markdown",
      "metadata": {
        "id": "7z3lgUeWd2rX",
        "colab_type": "text"
      },
      "source": [
        "## **Computing the accuracy of our model**"
      ]
    },
    {
      "cell_type": "markdown",
      "metadata": {
        "id": "RtAuhetid_Bx",
        "colab_type": "text"
      },
      "source": [
        "### **We use four measures to compute our model accuracy, namely: Mean Squared Error (MSE), Root Mean Squared Error (RMSE), Mean Absolute Error (MAE) and Mean Absolute Percentage Error (MAPE)**."
      ]
    },
    {
      "cell_type": "code",
      "metadata": {
        "id": "RYRqMYgohe9O",
        "colab_type": "code",
        "colab": {}
      },
      "source": [
        "from sklearn.metrics import mean_squared_error, mean_absolute_error\n",
        "def mean_absolute_percentage_error(y_true,y_pred):\n",
        "  y_true,y_pred = np.array(y_true), np.array(y_pred)\n",
        "  return np.mean(np.abs((y_true - y_pred) / y_true)) * 100"
      ],
      "execution_count": null,
      "outputs": []
    },
    {
      "cell_type": "code",
      "metadata": {
        "id": "ZiXGFAYld7TX",
        "colab_type": "code",
        "colab": {
          "base_uri": "https://localhost:8080/",
          "height": 86
        },
        "outputId": "da767895-e9f2-4ba8-91a0-e3c057a85f07"
      },
      "source": [
        "Error1= mean_squared_error(y_test,Test_prediction)\n",
        "RMSE = np.sqrt(Error1)\n",
        "Error2 = mean_absolute_error(y_test,Test_prediction)\n",
        "Error3 = mean_absolute_percentage_error(y_test,Test_prediction)\n",
        "\n",
        "print('The Mean Squared Error is: ', Error1)\n",
        "print\n",
        "print('The Root Mean Squared Error is: ', RMSE)\n",
        "print\n",
        "print('The Mean Absolute Error is: ', Error2)\n",
        "print \n",
        "print('The Mean Absolute Percentage Error is: ', Error3)\n",
        "\n"
      ],
      "execution_count": null,
      "outputs": [
        {
          "output_type": "stream",
          "text": [
            "The Mean Squared Error is:  140018.09058388346\n",
            "The Root Mean Squared Error is:  374.1899124560728\n",
            "The Mean Absolute Error is:  263.2180335003397\n",
            "The Mean Absolute Percentage Error is:  3.5840561077936184\n"
          ],
          "name": "stdout"
        }
      ]
    }
  ]
}